{
 "cells": [
  {
   "cell_type": "markdown",
   "metadata": {},
   "source": [
    "# ICESat-2 Hackweek 2020 Operational Data Insights\n",
    "\n",
    "Putting Prometheus and Grafana on the hackweek's kubernetes cluster was a great idea as it allowed me to see some easy visualizations for cluster health. There is also the benefit of being able to export data from Grafana dashboards to analyze in Pandas. It would be nice to export the data from Prometheus itself, as I have now realized that about two weeks of data is the maximum that Prometheus will save for the setup of this cluster. The export for the data used here was just under two weeks past the start of the hackweek, so it is the only data of its kind that we have for this hackweek."
   ]
  },
  {
   "cell_type": "code",
   "execution_count": 1,
   "metadata": {},
   "outputs": [],
   "source": [
    "import numpy as np\n",
    "import matplotlib.pyplot as plt\n",
    "import pandas as pd\n",
    "import seaborn as sns\n",
    "\n",
    "sns.set(style=\"darkgrid\")\n",
    "\n",
    "%matplotlib inline"
   ]
  },
  {
   "cell_type": "code",
   "execution_count": 2,
   "metadata": {},
   "outputs": [],
   "source": [
    "pod_mem_csv_file = \"~/Downloads/icesat-2-hackweek-pod-memory.csv\"\n",
    "pod_cpu_csv_file = \"~/Downloads/icesat-2-hackweek-pod-cpu.csv\""
   ]
  },
  {
   "cell_type": "markdown",
   "metadata": {},
   "source": [
    "## Memory\n",
    "\n",
    "Examine the data"
   ]
  },
  {
   "cell_type": "code",
   "execution_count": 3,
   "metadata": {},
   "outputs": [
    {
     "data": {
      "text/html": [
       "<div>\n",
       "<style scoped>\n",
       "    .dataframe tbody tr th:only-of-type {\n",
       "        vertical-align: middle;\n",
       "    }\n",
       "\n",
       "    .dataframe tbody tr th {\n",
       "        vertical-align: top;\n",
       "    }\n",
       "\n",
       "    .dataframe thead th {\n",
       "        text-align: right;\n",
       "    }\n",
       "</style>\n",
       "<table border=\"1\" class=\"dataframe\">\n",
       "  <thead>\n",
       "    <tr style=\"text-align: right;\">\n",
       "      <th></th>\n",
       "      <th>Series;\"Time\";\"Value\"</th>\n",
       "    </tr>\n",
       "  </thead>\n",
       "  <tbody>\n",
       "    <tr>\n",
       "      <th>0</th>\n",
       "      <td>autohttps-887cc58d4-7wcs4;\"2020-04-23T16:00:00...</td>\n",
       "    </tr>\n",
       "    <tr>\n",
       "      <th>1</th>\n",
       "      <td>autohttps-887cc58d4-7wcs4;\"2020-04-23T17:00:00...</td>\n",
       "    </tr>\n",
       "    <tr>\n",
       "      <th>2</th>\n",
       "      <td>autohttps-887cc58d4-7wcs4;\"2020-04-23T18:00:00...</td>\n",
       "    </tr>\n",
       "    <tr>\n",
       "      <th>3</th>\n",
       "      <td>autohttps-887cc58d4-7wcs4;\"2020-04-23T19:00:00...</td>\n",
       "    </tr>\n",
       "    <tr>\n",
       "      <th>4</th>\n",
       "      <td>autohttps-887cc58d4-7wcs4;\"2020-04-23T20:00:00...</td>\n",
       "    </tr>\n",
       "  </tbody>\n",
       "</table>\n",
       "</div>"
      ],
      "text/plain": [
       "                               Series;\"Time\";\"Value\"\n",
       "0  autohttps-887cc58d4-7wcs4;\"2020-04-23T16:00:00...\n",
       "1  autohttps-887cc58d4-7wcs4;\"2020-04-23T17:00:00...\n",
       "2  autohttps-887cc58d4-7wcs4;\"2020-04-23T18:00:00...\n",
       "3  autohttps-887cc58d4-7wcs4;\"2020-04-23T19:00:00...\n",
       "4  autohttps-887cc58d4-7wcs4;\"2020-04-23T20:00:00..."
      ]
     },
     "execution_count": 3,
     "metadata": {},
     "output_type": "execute_result"
    }
   ],
   "source": [
    "pod_mem_df = pd.read_csv(pod_mem_csv_file)\n",
    "pod_mem_df.head()"
   ]
  },
  {
   "cell_type": "code",
   "execution_count": 4,
   "metadata": {},
   "outputs": [
    {
     "data": {
      "text/plain": [
       "array([['proxy-748bcb9995-gckhp;\"2020-06-22T12:00:00-07:00\";20819968'],\n",
       "       ['proxy-748bcb9995-gckhp;\"2020-06-22T13:00:00-07:00\";20819968'],\n",
       "       ['proxy-748bcb9995-gckhp;\"2020-06-22T14:00:00-07:00\";20819968'],\n",
       "       ['proxy-748bcb9995-gckhp;\"2020-06-22T15:00:00-07:00\";20819968'],\n",
       "       ['proxy-748bcb9995-gckhp;\"2020-06-22T16:00:00-07:00\";20819968']],\n",
       "      dtype=object)"
      ]
     },
     "execution_count": 4,
     "metadata": {},
     "output_type": "execute_result"
    }
   ],
   "source": [
    "pod_mem_df.tail().values"
   ]
  },
  {
   "cell_type": "markdown",
   "metadata": {},
   "source": [
    "Looks like the data is formatted as \"pod name\";\"timestamp\";\"value\""
   ]
  },
  {
   "cell_type": "code",
   "execution_count": 5,
   "metadata": {},
   "outputs": [
    {
     "data": {
      "text/plain": [
       "Index(['Series;\"Time\";\"Value\"'], dtype='object')"
      ]
     },
     "execution_count": 5,
     "metadata": {},
     "output_type": "execute_result"
    }
   ],
   "source": [
    "pod_mem_df.columns"
   ]
  },
  {
   "cell_type": "code",
   "execution_count": 6,
   "metadata": {},
   "outputs": [
    {
     "data": {
      "text/plain": [
       "'autohttps-887cc58d4-7wcs4;\"2020-04-23T16:00:00-07:00\";null'"
      ]
     },
     "execution_count": 6,
     "metadata": {},
     "output_type": "execute_result"
    }
   ],
   "source": [
    "pod_mem_df.iloc[0,0]"
   ]
  },
  {
   "cell_type": "markdown",
   "metadata": {},
   "source": [
    "Since this data is just a long string, we need to convert it into 3 columns and make them usable. \n",
    "\n",
    "Prototype conversion below"
   ]
  },
  {
   "cell_type": "code",
   "execution_count": 7,
   "metadata": {},
   "outputs": [
    {
     "data": {
      "text/html": [
       "<div>\n",
       "<style scoped>\n",
       "    .dataframe tbody tr th:only-of-type {\n",
       "        vertical-align: middle;\n",
       "    }\n",
       "\n",
       "    .dataframe tbody tr th {\n",
       "        vertical-align: top;\n",
       "    }\n",
       "\n",
       "    .dataframe thead th {\n",
       "        text-align: right;\n",
       "    }\n",
       "</style>\n",
       "<table border=\"1\" class=\"dataframe\">\n",
       "  <thead>\n",
       "    <tr style=\"text-align: right;\">\n",
       "      <th></th>\n",
       "      <th>0</th>\n",
       "      <th>1</th>\n",
       "      <th>2</th>\n",
       "    </tr>\n",
       "  </thead>\n",
       "  <tbody>\n",
       "    <tr>\n",
       "      <th>0</th>\n",
       "      <td>autohttps-887cc58d4-7wcs4</td>\n",
       "      <td>\"2020-04-23T16:00:00-07:00\"</td>\n",
       "      <td>null</td>\n",
       "    </tr>\n",
       "    <tr>\n",
       "      <th>1</th>\n",
       "      <td>autohttps-887cc58d4-7wcs4</td>\n",
       "      <td>\"2020-04-23T17:00:00-07:00\"</td>\n",
       "      <td>null</td>\n",
       "    </tr>\n",
       "    <tr>\n",
       "      <th>2</th>\n",
       "      <td>autohttps-887cc58d4-7wcs4</td>\n",
       "      <td>\"2020-04-23T18:00:00-07:00\"</td>\n",
       "      <td>null</td>\n",
       "    </tr>\n",
       "    <tr>\n",
       "      <th>3</th>\n",
       "      <td>autohttps-887cc58d4-7wcs4</td>\n",
       "      <td>\"2020-04-23T19:00:00-07:00\"</td>\n",
       "      <td>null</td>\n",
       "    </tr>\n",
       "    <tr>\n",
       "      <th>4</th>\n",
       "      <td>autohttps-887cc58d4-7wcs4</td>\n",
       "      <td>\"2020-04-23T20:00:00-07:00\"</td>\n",
       "      <td>null</td>\n",
       "    </tr>\n",
       "  </tbody>\n",
       "</table>\n",
       "</div>"
      ],
      "text/plain": [
       "                           0                            1     2\n",
       "0  autohttps-887cc58d4-7wcs4  \"2020-04-23T16:00:00-07:00\"  null\n",
       "1  autohttps-887cc58d4-7wcs4  \"2020-04-23T17:00:00-07:00\"  null\n",
       "2  autohttps-887cc58d4-7wcs4  \"2020-04-23T18:00:00-07:00\"  null\n",
       "3  autohttps-887cc58d4-7wcs4  \"2020-04-23T19:00:00-07:00\"  null\n",
       "4  autohttps-887cc58d4-7wcs4  \"2020-04-23T20:00:00-07:00\"  null"
      ]
     },
     "execution_count": 7,
     "metadata": {},
     "output_type": "execute_result"
    }
   ],
   "source": [
    "split_test_df = pod_mem_df.iloc[0:5,0].str.split(\";\", expand=True)\n",
    "split_test_df"
   ]
  },
  {
   "cell_type": "code",
   "execution_count": 8,
   "metadata": {},
   "outputs": [
    {
     "data": {
      "text/html": [
       "<div>\n",
       "<style scoped>\n",
       "    .dataframe tbody tr th:only-of-type {\n",
       "        vertical-align: middle;\n",
       "    }\n",
       "\n",
       "    .dataframe tbody tr th {\n",
       "        vertical-align: top;\n",
       "    }\n",
       "\n",
       "    .dataframe thead th {\n",
       "        text-align: right;\n",
       "    }\n",
       "</style>\n",
       "<table border=\"1\" class=\"dataframe\">\n",
       "  <thead>\n",
       "    <tr style=\"text-align: right;\">\n",
       "      <th></th>\n",
       "      <th>pod</th>\n",
       "      <th>time</th>\n",
       "      <th>memory</th>\n",
       "    </tr>\n",
       "  </thead>\n",
       "  <tbody>\n",
       "    <tr>\n",
       "      <th>0</th>\n",
       "      <td>autohttps-887cc58d4-7wcs4</td>\n",
       "      <td>\"2020-04-23T16:00:00-07:00\"</td>\n",
       "      <td>null</td>\n",
       "    </tr>\n",
       "    <tr>\n",
       "      <th>1</th>\n",
       "      <td>autohttps-887cc58d4-7wcs4</td>\n",
       "      <td>\"2020-04-23T17:00:00-07:00\"</td>\n",
       "      <td>null</td>\n",
       "    </tr>\n",
       "    <tr>\n",
       "      <th>2</th>\n",
       "      <td>autohttps-887cc58d4-7wcs4</td>\n",
       "      <td>\"2020-04-23T18:00:00-07:00\"</td>\n",
       "      <td>null</td>\n",
       "    </tr>\n",
       "    <tr>\n",
       "      <th>3</th>\n",
       "      <td>autohttps-887cc58d4-7wcs4</td>\n",
       "      <td>\"2020-04-23T19:00:00-07:00\"</td>\n",
       "      <td>null</td>\n",
       "    </tr>\n",
       "    <tr>\n",
       "      <th>4</th>\n",
       "      <td>autohttps-887cc58d4-7wcs4</td>\n",
       "      <td>\"2020-04-23T20:00:00-07:00\"</td>\n",
       "      <td>null</td>\n",
       "    </tr>\n",
       "  </tbody>\n",
       "</table>\n",
       "</div>"
      ],
      "text/plain": [
       "                         pod                         time memory\n",
       "0  autohttps-887cc58d4-7wcs4  \"2020-04-23T16:00:00-07:00\"   null\n",
       "1  autohttps-887cc58d4-7wcs4  \"2020-04-23T17:00:00-07:00\"   null\n",
       "2  autohttps-887cc58d4-7wcs4  \"2020-04-23T18:00:00-07:00\"   null\n",
       "3  autohttps-887cc58d4-7wcs4  \"2020-04-23T19:00:00-07:00\"   null\n",
       "4  autohttps-887cc58d4-7wcs4  \"2020-04-23T20:00:00-07:00\"   null"
      ]
     },
     "execution_count": 8,
     "metadata": {},
     "output_type": "execute_result"
    }
   ],
   "source": [
    "split_test_df.columns = [\"pod\", \"time\", \"memory\"]\n",
    "split_test_df"
   ]
  },
  {
   "cell_type": "code",
   "execution_count": 9,
   "metadata": {},
   "outputs": [
    {
     "data": {
      "text/html": [
       "<div>\n",
       "<style scoped>\n",
       "    .dataframe tbody tr th:only-of-type {\n",
       "        vertical-align: middle;\n",
       "    }\n",
       "\n",
       "    .dataframe tbody tr th {\n",
       "        vertical-align: top;\n",
       "    }\n",
       "\n",
       "    .dataframe thead th {\n",
       "        text-align: right;\n",
       "    }\n",
       "</style>\n",
       "<table border=\"1\" class=\"dataframe\">\n",
       "  <thead>\n",
       "    <tr style=\"text-align: right;\">\n",
       "      <th></th>\n",
       "      <th>pod</th>\n",
       "      <th>time</th>\n",
       "      <th>memory</th>\n",
       "    </tr>\n",
       "  </thead>\n",
       "  <tbody>\n",
       "    <tr>\n",
       "      <th>0</th>\n",
       "      <td>autohttps-887cc58d4-7wcs4</td>\n",
       "      <td>2020-04-23T16:00:00</td>\n",
       "      <td>null</td>\n",
       "    </tr>\n",
       "    <tr>\n",
       "      <th>1</th>\n",
       "      <td>autohttps-887cc58d4-7wcs4</td>\n",
       "      <td>2020-04-23T17:00:00</td>\n",
       "      <td>null</td>\n",
       "    </tr>\n",
       "    <tr>\n",
       "      <th>2</th>\n",
       "      <td>autohttps-887cc58d4-7wcs4</td>\n",
       "      <td>2020-04-23T18:00:00</td>\n",
       "      <td>null</td>\n",
       "    </tr>\n",
       "    <tr>\n",
       "      <th>3</th>\n",
       "      <td>autohttps-887cc58d4-7wcs4</td>\n",
       "      <td>2020-04-23T19:00:00</td>\n",
       "      <td>null</td>\n",
       "    </tr>\n",
       "    <tr>\n",
       "      <th>4</th>\n",
       "      <td>autohttps-887cc58d4-7wcs4</td>\n",
       "      <td>2020-04-23T20:00:00</td>\n",
       "      <td>null</td>\n",
       "    </tr>\n",
       "  </tbody>\n",
       "</table>\n",
       "</div>"
      ],
      "text/plain": [
       "                         pod                 time memory\n",
       "0  autohttps-887cc58d4-7wcs4  2020-04-23T16:00:00   null\n",
       "1  autohttps-887cc58d4-7wcs4  2020-04-23T17:00:00   null\n",
       "2  autohttps-887cc58d4-7wcs4  2020-04-23T18:00:00   null\n",
       "3  autohttps-887cc58d4-7wcs4  2020-04-23T19:00:00   null\n",
       "4  autohttps-887cc58d4-7wcs4  2020-04-23T20:00:00   null"
      ]
     },
     "execution_count": 9,
     "metadata": {},
     "output_type": "execute_result"
    }
   ],
   "source": [
    "split_test_df.loc[:,\"time\"] = [value[1:][:-7] for value in split_test_df.loc[:, \"time\"]]\n",
    "split_test_df"
   ]
  },
  {
   "cell_type": "code",
   "execution_count": 10,
   "metadata": {},
   "outputs": [],
   "source": [
    "split_test_df.loc[:, \"time\"] = pd.to_datetime(split_test_df.time, format=\"%Y-%m-%dT%H:%M:%S\")"
   ]
  },
  {
   "cell_type": "code",
   "execution_count": 11,
   "metadata": {},
   "outputs": [
    {
     "data": {
      "text/html": [
       "<div>\n",
       "<style scoped>\n",
       "    .dataframe tbody tr th:only-of-type {\n",
       "        vertical-align: middle;\n",
       "    }\n",
       "\n",
       "    .dataframe tbody tr th {\n",
       "        vertical-align: top;\n",
       "    }\n",
       "\n",
       "    .dataframe thead th {\n",
       "        text-align: right;\n",
       "    }\n",
       "</style>\n",
       "<table border=\"1\" class=\"dataframe\">\n",
       "  <thead>\n",
       "    <tr style=\"text-align: right;\">\n",
       "      <th></th>\n",
       "      <th>pod</th>\n",
       "      <th>time</th>\n",
       "      <th>memory</th>\n",
       "    </tr>\n",
       "  </thead>\n",
       "  <tbody>\n",
       "    <tr>\n",
       "      <th>0</th>\n",
       "      <td>autohttps-887cc58d4-7wcs4</td>\n",
       "      <td>2020-04-23 16:00:00</td>\n",
       "      <td>null</td>\n",
       "    </tr>\n",
       "    <tr>\n",
       "      <th>1</th>\n",
       "      <td>autohttps-887cc58d4-7wcs4</td>\n",
       "      <td>2020-04-23 17:00:00</td>\n",
       "      <td>null</td>\n",
       "    </tr>\n",
       "    <tr>\n",
       "      <th>2</th>\n",
       "      <td>autohttps-887cc58d4-7wcs4</td>\n",
       "      <td>2020-04-23 18:00:00</td>\n",
       "      <td>null</td>\n",
       "    </tr>\n",
       "    <tr>\n",
       "      <th>3</th>\n",
       "      <td>autohttps-887cc58d4-7wcs4</td>\n",
       "      <td>2020-04-23 19:00:00</td>\n",
       "      <td>null</td>\n",
       "    </tr>\n",
       "    <tr>\n",
       "      <th>4</th>\n",
       "      <td>autohttps-887cc58d4-7wcs4</td>\n",
       "      <td>2020-04-23 20:00:00</td>\n",
       "      <td>null</td>\n",
       "    </tr>\n",
       "  </tbody>\n",
       "</table>\n",
       "</div>"
      ],
      "text/plain": [
       "                         pod                time memory\n",
       "0  autohttps-887cc58d4-7wcs4 2020-04-23 16:00:00   null\n",
       "1  autohttps-887cc58d4-7wcs4 2020-04-23 17:00:00   null\n",
       "2  autohttps-887cc58d4-7wcs4 2020-04-23 18:00:00   null\n",
       "3  autohttps-887cc58d4-7wcs4 2020-04-23 19:00:00   null\n",
       "4  autohttps-887cc58d4-7wcs4 2020-04-23 20:00:00   null"
      ]
     },
     "execution_count": 11,
     "metadata": {},
     "output_type": "execute_result"
    }
   ],
   "source": [
    "split_test_df"
   ]
  },
  {
   "cell_type": "code",
   "execution_count": 12,
   "metadata": {},
   "outputs": [
    {
     "data": {
      "text/plain": [
       "0   2020-04-23 16:00:00\n",
       "1   2020-04-23 17:00:00\n",
       "2   2020-04-23 18:00:00\n",
       "3   2020-04-23 19:00:00\n",
       "4   2020-04-23 20:00:00\n",
       "Name: time, dtype: datetime64[ns]"
      ]
     },
     "execution_count": 12,
     "metadata": {},
     "output_type": "execute_result"
    }
   ],
   "source": [
    "split_test_df.time"
   ]
  },
  {
   "cell_type": "code",
   "execution_count": 13,
   "metadata": {},
   "outputs": [
    {
     "data": {
      "text/html": [
       "<div>\n",
       "<style scoped>\n",
       "    .dataframe tbody tr th:only-of-type {\n",
       "        vertical-align: middle;\n",
       "    }\n",
       "\n",
       "    .dataframe tbody tr th {\n",
       "        vertical-align: top;\n",
       "    }\n",
       "\n",
       "    .dataframe thead th {\n",
       "        text-align: right;\n",
       "    }\n",
       "</style>\n",
       "<table border=\"1\" class=\"dataframe\">\n",
       "  <thead>\n",
       "    <tr style=\"text-align: right;\">\n",
       "      <th></th>\n",
       "      <th>pod</th>\n",
       "      <th>memory</th>\n",
       "    </tr>\n",
       "    <tr>\n",
       "      <th>time</th>\n",
       "      <th></th>\n",
       "      <th></th>\n",
       "    </tr>\n",
       "  </thead>\n",
       "  <tbody>\n",
       "    <tr>\n",
       "      <th>2020-04-23 16:00:00</th>\n",
       "      <td>autohttps-887cc58d4-7wcs4</td>\n",
       "      <td>null</td>\n",
       "    </tr>\n",
       "    <tr>\n",
       "      <th>2020-04-23 17:00:00</th>\n",
       "      <td>autohttps-887cc58d4-7wcs4</td>\n",
       "      <td>null</td>\n",
       "    </tr>\n",
       "    <tr>\n",
       "      <th>2020-04-23 18:00:00</th>\n",
       "      <td>autohttps-887cc58d4-7wcs4</td>\n",
       "      <td>null</td>\n",
       "    </tr>\n",
       "    <tr>\n",
       "      <th>2020-04-23 19:00:00</th>\n",
       "      <td>autohttps-887cc58d4-7wcs4</td>\n",
       "      <td>null</td>\n",
       "    </tr>\n",
       "    <tr>\n",
       "      <th>2020-04-23 20:00:00</th>\n",
       "      <td>autohttps-887cc58d4-7wcs4</td>\n",
       "      <td>null</td>\n",
       "    </tr>\n",
       "  </tbody>\n",
       "</table>\n",
       "</div>"
      ],
      "text/plain": [
       "                                           pod memory\n",
       "time                                                 \n",
       "2020-04-23 16:00:00  autohttps-887cc58d4-7wcs4   null\n",
       "2020-04-23 17:00:00  autohttps-887cc58d4-7wcs4   null\n",
       "2020-04-23 18:00:00  autohttps-887cc58d4-7wcs4   null\n",
       "2020-04-23 19:00:00  autohttps-887cc58d4-7wcs4   null\n",
       "2020-04-23 20:00:00  autohttps-887cc58d4-7wcs4   null"
      ]
     },
     "execution_count": 13,
     "metadata": {},
     "output_type": "execute_result"
    }
   ],
   "source": [
    "split_test_df.set_index(\"time\")"
   ]
  },
  {
   "cell_type": "markdown",
   "metadata": {},
   "source": [
    "### Memory Data Cleaning / Formatting"
   ]
  },
  {
   "cell_type": "code",
   "execution_count": 14,
   "metadata": {},
   "outputs": [
    {
     "data": {
      "text/html": [
       "<div>\n",
       "<style scoped>\n",
       "    .dataframe tbody tr th:only-of-type {\n",
       "        vertical-align: middle;\n",
       "    }\n",
       "\n",
       "    .dataframe tbody tr th {\n",
       "        vertical-align: top;\n",
       "    }\n",
       "\n",
       "    .dataframe thead th {\n",
       "        text-align: right;\n",
       "    }\n",
       "</style>\n",
       "<table border=\"1\" class=\"dataframe\">\n",
       "  <thead>\n",
       "    <tr style=\"text-align: right;\">\n",
       "      <th></th>\n",
       "      <th>pod</th>\n",
       "      <th>memory</th>\n",
       "    </tr>\n",
       "    <tr>\n",
       "      <th>time</th>\n",
       "      <th></th>\n",
       "      <th></th>\n",
       "    </tr>\n",
       "  </thead>\n",
       "  <tbody>\n",
       "    <tr>\n",
       "      <th>2020-04-23 16:00:00</th>\n",
       "      <td>autohttps-887cc58d4-7wcs4</td>\n",
       "      <td>0.0</td>\n",
       "    </tr>\n",
       "    <tr>\n",
       "      <th>2020-04-23 17:00:00</th>\n",
       "      <td>autohttps-887cc58d4-7wcs4</td>\n",
       "      <td>0.0</td>\n",
       "    </tr>\n",
       "    <tr>\n",
       "      <th>2020-04-23 18:00:00</th>\n",
       "      <td>autohttps-887cc58d4-7wcs4</td>\n",
       "      <td>0.0</td>\n",
       "    </tr>\n",
       "    <tr>\n",
       "      <th>2020-04-23 19:00:00</th>\n",
       "      <td>autohttps-887cc58d4-7wcs4</td>\n",
       "      <td>0.0</td>\n",
       "    </tr>\n",
       "    <tr>\n",
       "      <th>2020-04-23 20:00:00</th>\n",
       "      <td>autohttps-887cc58d4-7wcs4</td>\n",
       "      <td>0.0</td>\n",
       "    </tr>\n",
       "  </tbody>\n",
       "</table>\n",
       "</div>"
      ],
      "text/plain": [
       "                                           pod  memory\n",
       "time                                                  \n",
       "2020-04-23 16:00:00  autohttps-887cc58d4-7wcs4     0.0\n",
       "2020-04-23 17:00:00  autohttps-887cc58d4-7wcs4     0.0\n",
       "2020-04-23 18:00:00  autohttps-887cc58d4-7wcs4     0.0\n",
       "2020-04-23 19:00:00  autohttps-887cc58d4-7wcs4     0.0\n",
       "2020-04-23 20:00:00  autohttps-887cc58d4-7wcs4     0.0"
      ]
     },
     "execution_count": 14,
     "metadata": {},
     "output_type": "execute_result"
    }
   ],
   "source": [
    "# Split into 3 columns\n",
    "pod_mem_df_formatted = pod_mem_df.iloc[:,0].str.split(\";\", expand=True)\n",
    "pod_mem_df_formatted.columns = [\"pod\", \"time\", \"memory\"]\n",
    "\n",
    "# Fix time column and set as index\n",
    "pod_mem_df_formatted.loc[:,\"time\"] = [value[1:][:-7] for value in pod_mem_df_formatted.loc[:, \"time\"]]\n",
    "pod_mem_df_formatted.loc[:, \"time\"] = pd.to_datetime(pod_mem_df_formatted.time, format=\"%Y-%m-%dT%H:%M:%S\")\n",
    "pod_mem_df_formatted = pod_mem_df_formatted.set_index(\"time\")\n",
    "\n",
    "# Fix numeric column\n",
    "pod_mem_df_formatted.loc[:, \"memory\"] = pd.to_numeric(pod_mem_df_formatted.memory.str.replace(\"null\", \"0\"))\n",
    "\n",
    "# Put memory in GB\n",
    "pod_mem_df_formatted.loc[:, \"memory\"] = pod_mem_df_formatted[\"memory\"]/1024/1024/1024\n",
    "\n",
    "# Look at the end result\n",
    "pod_mem_df_formatted.head()"
   ]
  },
  {
   "cell_type": "code",
   "execution_count": 15,
   "metadata": {},
   "outputs": [
    {
     "name": "stdout",
     "output_type": "stream",
     "text": [
      "<class 'pandas.core.frame.DataFrame'>\n",
      "DatetimeIndex: 769494 entries, 2020-04-23 16:00:00 to 2020-06-22 16:00:00\n",
      "Data columns (total 2 columns):\n",
      " #   Column  Non-Null Count   Dtype  \n",
      "---  ------  --------------   -----  \n",
      " 0   pod     769494 non-null  object \n",
      " 1   memory  769494 non-null  float64\n",
      "dtypes: float64(1), object(1)\n",
      "memory usage: 17.6+ MB\n"
     ]
    }
   ],
   "source": [
    "pod_mem_df_formatted.info()"
   ]
  },
  {
   "cell_type": "markdown",
   "metadata": {},
   "source": [
    "### Plot Memory Data\n",
    "\n",
    "It is interesting how there is nothing present for the majority of the history. The hackweek started on June 8th, so maybe this makes sense."
   ]
  },
  {
   "cell_type": "code",
   "execution_count": 16,
   "metadata": {},
   "outputs": [
    {
     "data": {
      "image/png": "[encoded data removed]",
      "text/plain": [
       "<Figure size 432x288 with 1 Axes>"
      ]
     },
     "metadata": {
      "needs_background": "light"
     },
     "output_type": "display_data"
    }
   ],
   "source": [
    "_ = pod_mem_df_formatted.plot(y=\"memory\")\n",
    "_ = plt.ylabel(\"Pod Memory (GiB)\")\n",
    "_ = plt.title(\"Memory Usage for Any Pod\")"
   ]
  },
  {
   "cell_type": "code",
   "execution_count": null,
   "metadata": {},
   "outputs": [],
   "source": []
  },
  {
   "cell_type": "code",
   "execution_count": null,
   "metadata": {},
   "outputs": [],
   "source": []
  },
  {
   "cell_type": "code",
   "execution_count": null,
   "metadata": {},
   "outputs": [],
   "source": []
  },
  {
   "cell_type": "markdown",
   "metadata": {},
   "source": [
    "## CPU"
   ]
  },
  {
   "cell_type": "code",
   "execution_count": 17,
   "metadata": {},
   "outputs": [
    {
     "data": {
      "text/html": [
       "<div>\n",
       "<style scoped>\n",
       "    .dataframe tbody tr th:only-of-type {\n",
       "        vertical-align: middle;\n",
       "    }\n",
       "\n",
       "    .dataframe tbody tr th {\n",
       "        vertical-align: top;\n",
       "    }\n",
       "\n",
       "    .dataframe thead th {\n",
       "        text-align: right;\n",
       "    }\n",
       "</style>\n",
       "<table border=\"1\" class=\"dataframe\">\n",
       "  <thead>\n",
       "    <tr style=\"text-align: right;\">\n",
       "      <th></th>\n",
       "      <th>Series;\"Time\";\"Value\"</th>\n",
       "    </tr>\n",
       "  </thead>\n",
       "  <tbody>\n",
       "    <tr>\n",
       "      <th>0</th>\n",
       "      <td>autohttps-887cc58d4-7wcs4;\"2020-04-23T16:00:00...</td>\n",
       "    </tr>\n",
       "    <tr>\n",
       "      <th>1</th>\n",
       "      <td>autohttps-887cc58d4-7wcs4;\"2020-04-23T17:00:00...</td>\n",
       "    </tr>\n",
       "    <tr>\n",
       "      <th>2</th>\n",
       "      <td>autohttps-887cc58d4-7wcs4;\"2020-04-23T18:00:00...</td>\n",
       "    </tr>\n",
       "    <tr>\n",
       "      <th>3</th>\n",
       "      <td>autohttps-887cc58d4-7wcs4;\"2020-04-23T19:00:00...</td>\n",
       "    </tr>\n",
       "    <tr>\n",
       "      <th>4</th>\n",
       "      <td>autohttps-887cc58d4-7wcs4;\"2020-04-23T20:00:00...</td>\n",
       "    </tr>\n",
       "  </tbody>\n",
       "</table>\n",
       "</div>"
      ],
      "text/plain": [
       "                               Series;\"Time\";\"Value\"\n",
       "0  autohttps-887cc58d4-7wcs4;\"2020-04-23T16:00:00...\n",
       "1  autohttps-887cc58d4-7wcs4;\"2020-04-23T17:00:00...\n",
       "2  autohttps-887cc58d4-7wcs4;\"2020-04-23T18:00:00...\n",
       "3  autohttps-887cc58d4-7wcs4;\"2020-04-23T19:00:00...\n",
       "4  autohttps-887cc58d4-7wcs4;\"2020-04-23T20:00:00..."
      ]
     },
     "execution_count": 17,
     "metadata": {},
     "output_type": "execute_result"
    }
   ],
   "source": [
    "pod_cpu_df = pd.read_csv(pod_cpu_csv_file)\n",
    "pod_cpu_df.head()"
   ]
  },
  {
   "cell_type": "code",
   "execution_count": 18,
   "metadata": {},
   "outputs": [
    {
     "data": {
      "text/plain": [
       "'autohttps-887cc58d4-7wcs4;\"2020-04-23T16:00:00-07:00\";null'"
      ]
     },
     "execution_count": 18,
     "metadata": {},
     "output_type": "execute_result"
    }
   ],
   "source": [
    "pod_cpu_df.iloc[0,0]"
   ]
  },
  {
   "cell_type": "markdown",
   "metadata": {},
   "source": [
    "### CPU Data Cleaning / Formatting"
   ]
  },
  {
   "cell_type": "code",
   "execution_count": 19,
   "metadata": {},
   "outputs": [
    {
     "data": {
      "text/html": [
       "<div>\n",
       "<style scoped>\n",
       "    .dataframe tbody tr th:only-of-type {\n",
       "        vertical-align: middle;\n",
       "    }\n",
       "\n",
       "    .dataframe tbody tr th {\n",
       "        vertical-align: top;\n",
       "    }\n",
       "\n",
       "    .dataframe thead th {\n",
       "        text-align: right;\n",
       "    }\n",
       "</style>\n",
       "<table border=\"1\" class=\"dataframe\">\n",
       "  <thead>\n",
       "    <tr style=\"text-align: right;\">\n",
       "      <th></th>\n",
       "      <th>pod</th>\n",
       "      <th>cpu</th>\n",
       "    </tr>\n",
       "    <tr>\n",
       "      <th>time</th>\n",
       "      <th></th>\n",
       "      <th></th>\n",
       "    </tr>\n",
       "  </thead>\n",
       "  <tbody>\n",
       "    <tr>\n",
       "      <th>2020-04-23 16:00:00</th>\n",
       "      <td>autohttps-887cc58d4-7wcs4</td>\n",
       "      <td>0.0</td>\n",
       "    </tr>\n",
       "    <tr>\n",
       "      <th>2020-04-23 17:00:00</th>\n",
       "      <td>autohttps-887cc58d4-7wcs4</td>\n",
       "      <td>0.0</td>\n",
       "    </tr>\n",
       "    <tr>\n",
       "      <th>2020-04-23 18:00:00</th>\n",
       "      <td>autohttps-887cc58d4-7wcs4</td>\n",
       "      <td>0.0</td>\n",
       "    </tr>\n",
       "    <tr>\n",
       "      <th>2020-04-23 19:00:00</th>\n",
       "      <td>autohttps-887cc58d4-7wcs4</td>\n",
       "      <td>0.0</td>\n",
       "    </tr>\n",
       "    <tr>\n",
       "      <th>2020-04-23 20:00:00</th>\n",
       "      <td>autohttps-887cc58d4-7wcs4</td>\n",
       "      <td>0.0</td>\n",
       "    </tr>\n",
       "  </tbody>\n",
       "</table>\n",
       "</div>"
      ],
      "text/plain": [
       "                                           pod  cpu\n",
       "time                                               \n",
       "2020-04-23 16:00:00  autohttps-887cc58d4-7wcs4  0.0\n",
       "2020-04-23 17:00:00  autohttps-887cc58d4-7wcs4  0.0\n",
       "2020-04-23 18:00:00  autohttps-887cc58d4-7wcs4  0.0\n",
       "2020-04-23 19:00:00  autohttps-887cc58d4-7wcs4  0.0\n",
       "2020-04-23 20:00:00  autohttps-887cc58d4-7wcs4  0.0"
      ]
     },
     "execution_count": 19,
     "metadata": {},
     "output_type": "execute_result"
    }
   ],
   "source": [
    "# Split into 3 columns\n",
    "pod_cpu_df_formatted = pod_cpu_df.iloc[:,0].str.split(\";\", expand=True)\n",
    "pod_cpu_df_formatted.columns = [\"pod\", \"time\", \"cpu\"]\n",
    "\n",
    "# Fix time col formatting and set as index\n",
    "pod_cpu_df_formatted.loc[:,\"time\"] = [value[1:][:-7] for value in pod_cpu_df_formatted.loc[:, \"time\"]]\n",
    "pod_cpu_df_formatted.loc[:, \"time\"] = pd.to_datetime(pod_cpu_df_formatted.time, format=\"%Y-%m-%dT%H:%M:%S\")\n",
    "pod_cpu_df_formatted = pod_cpu_df_formatted.set_index(\"time\")\n",
    "\n",
    "# Fix numeric column formatting\n",
    "pod_cpu_df_formatted.loc[:, \"cpu\"] = pd.to_numeric(pod_cpu_df_formatted.cpu.str.replace(\"null\", \"0\"))\n",
    "\n",
    "# Look at the final result\n",
    "pod_cpu_df_formatted.head()"
   ]
  },
  {
   "cell_type": "markdown",
   "metadata": {},
   "source": [
    "### Earliest Data Entry\n",
    "\n",
    "While the csv file has entries starting April 23rd, the earliest entry that actually has a non-zero value for cpu is on June 7th. The pod listed here is one that helps with HTTPS and was configured on May 14th, so it should have cpu data from May 14th onward. This indicates that Prometheus in our naive configuration stores about two weeks of data. That explains why the data prior to June 7th seems _extremely_ flat."
   ]
  },
  {
   "cell_type": "code",
   "execution_count": 20,
   "metadata": {},
   "outputs": [
    {
     "data": {
      "text/html": [
       "<div>\n",
       "<style scoped>\n",
       "    .dataframe tbody tr th:only-of-type {\n",
       "        vertical-align: middle;\n",
       "    }\n",
       "\n",
       "    .dataframe tbody tr th {\n",
       "        vertical-align: top;\n",
       "    }\n",
       "\n",
       "    .dataframe thead th {\n",
       "        text-align: right;\n",
       "    }\n",
       "</style>\n",
       "<table border=\"1\" class=\"dataframe\">\n",
       "  <thead>\n",
       "    <tr style=\"text-align: right;\">\n",
       "      <th></th>\n",
       "      <th>pod</th>\n",
       "      <th>cpu</th>\n",
       "    </tr>\n",
       "    <tr>\n",
       "      <th>time</th>\n",
       "      <th></th>\n",
       "      <th></th>\n",
       "    </tr>\n",
       "  </thead>\n",
       "  <tbody>\n",
       "    <tr>\n",
       "      <th>2020-06-07 12:00:00</th>\n",
       "      <td>autohttps-887cc58d4-7wcs4</td>\n",
       "      <td>0.000013</td>\n",
       "    </tr>\n",
       "  </tbody>\n",
       "</table>\n",
       "</div>"
      ],
      "text/plain": [
       "                                           pod       cpu\n",
       "time                                                    \n",
       "2020-06-07 12:00:00  autohttps-887cc58d4-7wcs4  0.000013"
      ]
     },
     "execution_count": 20,
     "metadata": {},
     "output_type": "execute_result"
    }
   ],
   "source": [
    "pod_cpu_df_formatted[pod_cpu_df_formatted.cpu != 0].head(1)"
   ]
  },
  {
   "cell_type": "code",
   "execution_count": 21,
   "metadata": {},
   "outputs": [
    {
     "name": "stdout",
     "output_type": "stream",
     "text": [
      "TimedeltaIndex(['15 days 04:00:00'], dtype='timedelta64[ns]', freq=None)\n"
     ]
    }
   ],
   "source": [
    "earliest_entry = pd.to_datetime(pod_cpu_df_formatted[pod_cpu_df_formatted.cpu != 0].head(1).index.values, format=\"%Y-%m-%dT%H:%M:%S\")\n",
    "latest_entry = pd.to_datetime(pod_cpu_df_formatted.tail(1).index.values, format=\"%Y-%m-%dT%H:%M:%S\")\n",
    "data_retention = latest_entry - earliest_entry\n",
    "print(data_retention)"
   ]
  },
  {
   "cell_type": "markdown",
   "metadata": {},
   "source": [
    "### Plot CPU Data"
   ]
  },
  {
   "cell_type": "code",
   "execution_count": 22,
   "metadata": {},
   "outputs": [
    {
     "data": {
      "image/png": "[encoded data removed]",
      "text/plain": [
       "<Figure size 432x288 with 1 Axes>"
      ]
     },
     "metadata": {
      "needs_background": "light"
     },
     "output_type": "display_data"
    }
   ],
   "source": [
    "_ = pod_cpu_df_formatted.loc[\"2020-06-06\":].plot(y=\"cpu\", style=\"b.\")\n",
    "_ = plt.ylabel(\"Pod CPU Core Usage (1h average)\")\n",
    "_ = plt.title(\"CPU Cores Used by Any Pod (1h avg)\")"
   ]
  },
  {
   "cell_type": "markdown",
   "metadata": {},
   "source": [
    "### Plot Memory Data over the same time frame"
   ]
  },
  {
   "cell_type": "code",
   "execution_count": 77,
   "metadata": {},
   "outputs": [
    {
     "data": {
      "text/plain": [
       "<matplotlib.axes._subplots.AxesSubplot at 0x7f388972ac50>"
      ]
     },
     "execution_count": 77,
     "metadata": {},
     "output_type": "execute_result"
    },
    {
     "data": {
      "image/png": "[encoded data removed]",
      "text/plain": [
       "<Figure size 432x288 with 1 Axes>"
      ]
     },
     "metadata": {
      "needs_background": "light"
     },
     "output_type": "display_data"
    }
   ],
   "source": [
    "test_df = pod_mem_df_formatted.loc[\"2020-06-07 12:00:00\":,:]\n",
    "test_df[\"memory\"].plot()"
   ]
  },
  {
   "cell_type": "code",
   "execution_count": 78,
   "metadata": {},
   "outputs": [
    {
     "data": {
      "text/plain": [
       "DatetimeIndex(['2020-06-07 12:00:00', '2020-06-07 13:00:00',\n",
       "               '2020-06-07 14:00:00', '2020-06-07 15:00:00',\n",
       "               '2020-06-07 16:00:00', '2020-06-07 17:00:00',\n",
       "               '2020-06-07 18:00:00', '2020-06-07 19:00:00',\n",
       "               '2020-06-07 20:00:00', '2020-06-07 21:00:00',\n",
       "               ...\n",
       "               '2020-06-22 07:00:00', '2020-06-22 08:00:00',\n",
       "               '2020-06-22 09:00:00', '2020-06-22 10:00:00',\n",
       "               '2020-06-22 11:00:00', '2020-06-22 12:00:00',\n",
       "               '2020-06-22 13:00:00', '2020-06-22 14:00:00',\n",
       "               '2020-06-22 15:00:00', '2020-06-22 16:00:00'],\n",
       "              dtype='datetime64[ns]', name='time', length=194910, freq=None)"
      ]
     },
     "execution_count": 78,
     "metadata": {},
     "output_type": "execute_result"
    }
   ],
   "source": [
    "test_df.index"
   ]
  },
  {
   "cell_type": "code",
   "execution_count": 65,
   "metadata": {},
   "outputs": [
    {
     "data": {
      "text/plain": [
       "<matplotlib.axes._subplots.AxesSubplot at 0x7f3888de7fd0>"
      ]
     },
     "execution_count": 65,
     "metadata": {},
     "output_type": "execute_result"
    },
    {
     "data": {
      "image/png": "[encoded data removed]",
      "text/plain": [
       "<Figure size 432x288 with 1 Axes>"
      ]
     },
     "metadata": {
      "needs_background": "light"
     },
     "output_type": "display_data"
    }
   ],
   "source": [
    "pod_mem_df_formatted.loc[\"2020-06-07 12:00:00\":, \"memory\"].plot(style=\"b.\")"
   ]
  },
  {
   "cell_type": "code",
   "execution_count": 61,
   "metadata": {},
   "outputs": [
    {
     "data": {
      "image/png": "[encoded data removed]",
      "text/plain": [
       "<Figure size 432x288 with 1 Axes>"
      ]
     },
     "metadata": {
      "needs_background": "light"
     },
     "output_type": "display_data"
    }
   ],
   "source": [
    "_ = pod_mem_df_formatted.loc[\"2020-06-07 12:00:00\":, \"memory\"].plot(style=\"b.\")\n",
    "_ = plt.ylabel(\"Pod Memory (GiB)\")\n",
    "_ = plt.title(\"Memory Usage for Individual Pods (Hourly Check)\")\n",
    "_ = plt.tight_layout()\n",
    "plt.savefig(\"icesat_2_hackweek_individual_memory_usage.png\")"
   ]
  },
  {
   "cell_type": "markdown",
   "metadata": {},
   "source": [
    "## Next Thoughts\n",
    "\n",
    "I have the raw data cleaned and formatted so that I have hourly (and in the case of CPU, averaged) data for each pod on the cluster. What should I look at next?\n",
    "- Number of Users that were on the cluster\n",
    "- Number of Simultaneous Users\n",
    "- Highest Average Cpu / Highest Memory Usages among Users\n",
    "- Compare User Pod Resource Usages with Cluster-side Pod Resource Usages\n",
    "  \n",
    "Possible Intermediate Steps to Achieve Easier Answering of the Above Questions:\n",
    "- Tag Pods with \"cluster\" or \"user\" tags"
   ]
  },
  {
   "cell_type": "markdown",
   "metadata": {},
   "source": [
    "## Tag Pods with \"cluster\" or \"user\" tags"
   ]
  },
  {
   "cell_type": "code",
   "execution_count": 24,
   "metadata": {},
   "outputs": [
    {
     "data": {
      "text/html": [
       "<div>\n",
       "<style scoped>\n",
       "    .dataframe tbody tr th:only-of-type {\n",
       "        vertical-align: middle;\n",
       "    }\n",
       "\n",
       "    .dataframe tbody tr th {\n",
       "        vertical-align: top;\n",
       "    }\n",
       "\n",
       "    .dataframe thead th {\n",
       "        text-align: right;\n",
       "    }\n",
       "</style>\n",
       "<table border=\"1\" class=\"dataframe\">\n",
       "  <thead>\n",
       "    <tr style=\"text-align: right;\">\n",
       "      <th></th>\n",
       "      <th>pod</th>\n",
       "      <th>memory</th>\n",
       "    </tr>\n",
       "    <tr>\n",
       "      <th>time</th>\n",
       "      <th></th>\n",
       "      <th></th>\n",
       "    </tr>\n",
       "  </thead>\n",
       "  <tbody>\n",
       "    <tr>\n",
       "      <th>2020-04-23 16:00:00</th>\n",
       "      <td>autohttps-887cc58d4-7wcs4</td>\n",
       "      <td>0.0</td>\n",
       "    </tr>\n",
       "    <tr>\n",
       "      <th>2020-04-23 17:00:00</th>\n",
       "      <td>autohttps-887cc58d4-7wcs4</td>\n",
       "      <td>0.0</td>\n",
       "    </tr>\n",
       "    <tr>\n",
       "      <th>2020-04-23 18:00:00</th>\n",
       "      <td>autohttps-887cc58d4-7wcs4</td>\n",
       "      <td>0.0</td>\n",
       "    </tr>\n",
       "    <tr>\n",
       "      <th>2020-04-23 19:00:00</th>\n",
       "      <td>autohttps-887cc58d4-7wcs4</td>\n",
       "      <td>0.0</td>\n",
       "    </tr>\n",
       "    <tr>\n",
       "      <th>2020-04-23 20:00:00</th>\n",
       "      <td>autohttps-887cc58d4-7wcs4</td>\n",
       "      <td>0.0</td>\n",
       "    </tr>\n",
       "  </tbody>\n",
       "</table>\n",
       "</div>"
      ],
      "text/plain": [
       "                                           pod  memory\n",
       "time                                                  \n",
       "2020-04-23 16:00:00  autohttps-887cc58d4-7wcs4     0.0\n",
       "2020-04-23 17:00:00  autohttps-887cc58d4-7wcs4     0.0\n",
       "2020-04-23 18:00:00  autohttps-887cc58d4-7wcs4     0.0\n",
       "2020-04-23 19:00:00  autohttps-887cc58d4-7wcs4     0.0\n",
       "2020-04-23 20:00:00  autohttps-887cc58d4-7wcs4     0.0"
      ]
     },
     "execution_count": 24,
     "metadata": {},
     "output_type": "execute_result"
    }
   ],
   "source": [
    "pod_mem_df_formatted.head()"
   ]
  },
  {
   "cell_type": "code",
   "execution_count": 25,
   "metadata": {},
   "outputs": [
    {
     "data": {
      "text/html": [
       "<div>\n",
       "<style scoped>\n",
       "    .dataframe tbody tr th:only-of-type {\n",
       "        vertical-align: middle;\n",
       "    }\n",
       "\n",
       "    .dataframe tbody tr th {\n",
       "        vertical-align: top;\n",
       "    }\n",
       "\n",
       "    .dataframe thead th {\n",
       "        text-align: right;\n",
       "    }\n",
       "</style>\n",
       "<table border=\"1\" class=\"dataframe\">\n",
       "  <thead>\n",
       "    <tr style=\"text-align: right;\">\n",
       "      <th></th>\n",
       "      <th>pod</th>\n",
       "      <th>memory</th>\n",
       "      <th>tag</th>\n",
       "    </tr>\n",
       "    <tr>\n",
       "      <th>time</th>\n",
       "      <th></th>\n",
       "      <th></th>\n",
       "      <th></th>\n",
       "    </tr>\n",
       "  </thead>\n",
       "  <tbody>\n",
       "    <tr>\n",
       "      <th>2020-04-23 16:00:00</th>\n",
       "      <td>autohttps-887cc58d4-7wcs4</td>\n",
       "      <td>0.0</td>\n",
       "      <td></td>\n",
       "    </tr>\n",
       "    <tr>\n",
       "      <th>2020-04-23 17:00:00</th>\n",
       "      <td>autohttps-887cc58d4-7wcs4</td>\n",
       "      <td>0.0</td>\n",
       "      <td></td>\n",
       "    </tr>\n",
       "    <tr>\n",
       "      <th>2020-04-23 18:00:00</th>\n",
       "      <td>autohttps-887cc58d4-7wcs4</td>\n",
       "      <td>0.0</td>\n",
       "      <td></td>\n",
       "    </tr>\n",
       "    <tr>\n",
       "      <th>2020-04-23 19:00:00</th>\n",
       "      <td>autohttps-887cc58d4-7wcs4</td>\n",
       "      <td>0.0</td>\n",
       "      <td></td>\n",
       "    </tr>\n",
       "    <tr>\n",
       "      <th>2020-04-23 20:00:00</th>\n",
       "      <td>autohttps-887cc58d4-7wcs4</td>\n",
       "      <td>0.0</td>\n",
       "      <td></td>\n",
       "    </tr>\n",
       "  </tbody>\n",
       "</table>\n",
       "</div>"
      ],
      "text/plain": [
       "                                           pod  memory tag\n",
       "time                                                      \n",
       "2020-04-23 16:00:00  autohttps-887cc58d4-7wcs4     0.0    \n",
       "2020-04-23 17:00:00  autohttps-887cc58d4-7wcs4     0.0    \n",
       "2020-04-23 18:00:00  autohttps-887cc58d4-7wcs4     0.0    \n",
       "2020-04-23 19:00:00  autohttps-887cc58d4-7wcs4     0.0    \n",
       "2020-04-23 20:00:00  autohttps-887cc58d4-7wcs4     0.0    "
      ]
     },
     "execution_count": 25,
     "metadata": {},
     "output_type": "execute_result"
    }
   ],
   "source": [
    "pod_mem_df_formatted.loc[:, \"tag\"] = \"\"\n",
    "pod_mem_df_formatted.head()"
   ]
  },
  {
   "cell_type": "code",
   "execution_count": 26,
   "metadata": {},
   "outputs": [
    {
     "data": {
      "text/plain": [
       "cluster    632599\n",
       "user       136895\n",
       "Name: tag, dtype: int64"
      ]
     },
     "execution_count": 26,
     "metadata": {},
     "output_type": "execute_result"
    }
   ],
   "source": [
    "pod_mem_df_formatted.loc[pod_mem_df_formatted.pod.str.contains(\"jupyter\"), \"tag\"] = \"user\"\n",
    "pod_mem_df_formatted.loc[~pod_mem_df_formatted.pod.str.contains(\"jupyter\"), \"tag\"] = \"cluster\"\n",
    "pod_mem_df_formatted.tag.value_counts()"
   ]
  },
  {
   "cell_type": "code",
   "execution_count": 27,
   "metadata": {},
   "outputs": [
    {
     "data": {
      "text/plain": [
       "cluster    724823\n",
       "user       136895\n",
       "Name: tag, dtype: int64"
      ]
     },
     "execution_count": 27,
     "metadata": {},
     "output_type": "execute_result"
    }
   ],
   "source": [
    "pod_cpu_df_formatted.loc[pod_cpu_df_formatted.pod.str.contains(\"jupyter\"), \"tag\"] = \"user\"\n",
    "pod_cpu_df_formatted.loc[~pod_cpu_df_formatted.pod.str.contains(\"jupyter\"), \"tag\"] = \"cluster\"\n",
    "pod_cpu_df_formatted.tag.value_counts()"
   ]
  },
  {
   "cell_type": "markdown",
   "metadata": {},
   "source": [
    "### Number of Total Users: 95"
   ]
  },
  {
   "cell_type": "code",
   "execution_count": 28,
   "metadata": {},
   "outputs": [
    {
     "data": {
      "text/plain": [
       "95"
      ]
     },
     "execution_count": 28,
     "metadata": {},
     "output_type": "execute_result"
    }
   ],
   "source": [
    "len(pod_mem_df_formatted[pod_mem_df_formatted.tag == \"user\"].pod.unique())"
   ]
  },
  {
   "cell_type": "code",
   "execution_count": 29,
   "metadata": {},
   "outputs": [
    {
     "data": {
      "text/plain": [
       "95"
      ]
     },
     "execution_count": 29,
     "metadata": {},
     "output_type": "execute_result"
    }
   ],
   "source": [
    "len(pod_cpu_df_formatted[pod_cpu_df_formatted.tag == \"user\"].pod.unique())"
   ]
  },
  {
   "cell_type": "markdown",
   "metadata": {},
   "source": [
    "### Highest Number of Concurrent Users"
   ]
  },
  {
   "cell_type": "markdown",
   "metadata": {},
   "source": [
    "Ah. So the order of the data isn't in order of time, it's in order of pod name and then time. So aarendt has all of their entries time-ordered, then abarciauskas, then alexdebella, etc."
   ]
  },
  {
   "cell_type": "code",
   "execution_count": 30,
   "metadata": {},
   "outputs": [
    {
     "data": {
      "text/html": [
       "<div>\n",
       "<style scoped>\n",
       "    .dataframe tbody tr th:only-of-type {\n",
       "        vertical-align: middle;\n",
       "    }\n",
       "\n",
       "    .dataframe tbody tr th {\n",
       "        vertical-align: top;\n",
       "    }\n",
       "\n",
       "    .dataframe thead th {\n",
       "        text-align: right;\n",
       "    }\n",
       "</style>\n",
       "<table border=\"1\" class=\"dataframe\">\n",
       "  <thead>\n",
       "    <tr style=\"text-align: right;\">\n",
       "      <th></th>\n",
       "      <th>pod</th>\n",
       "      <th>memory</th>\n",
       "      <th>tag</th>\n",
       "    </tr>\n",
       "    <tr>\n",
       "      <th>time</th>\n",
       "      <th></th>\n",
       "      <th></th>\n",
       "      <th></th>\n",
       "    </tr>\n",
       "  </thead>\n",
       "  <tbody>\n",
       "    <tr>\n",
       "      <th>2020-06-11 10:00:00</th>\n",
       "      <td>jupyter-aaarendt</td>\n",
       "      <td>0.143417</td>\n",
       "      <td>user</td>\n",
       "    </tr>\n",
       "    <tr>\n",
       "      <th>2020-06-11 11:00:00</th>\n",
       "      <td>jupyter-aaarendt</td>\n",
       "      <td>0.231564</td>\n",
       "      <td>user</td>\n",
       "    </tr>\n",
       "    <tr>\n",
       "      <th>2020-06-11 12:00:00</th>\n",
       "      <td>jupyter-aaarendt</td>\n",
       "      <td>0.232403</td>\n",
       "      <td>user</td>\n",
       "    </tr>\n",
       "    <tr>\n",
       "      <th>2020-06-11 12:00:00</th>\n",
       "      <td>jupyter-abarciauskas-2dbgse</td>\n",
       "      <td>0.141663</td>\n",
       "      <td>user</td>\n",
       "    </tr>\n",
       "    <tr>\n",
       "      <th>2020-06-11 10:00:00</th>\n",
       "      <td>jupyter-alexdibella</td>\n",
       "      <td>0.234222</td>\n",
       "      <td>user</td>\n",
       "    </tr>\n",
       "    <tr>\n",
       "      <th>...</th>\n",
       "      <td>...</td>\n",
       "      <td>...</td>\n",
       "      <td>...</td>\n",
       "    </tr>\n",
       "    <tr>\n",
       "      <th>2020-06-11 11:00:00</th>\n",
       "      <td>jupyter-xiaomeilu1</td>\n",
       "      <td>0.276272</td>\n",
       "      <td>user</td>\n",
       "    </tr>\n",
       "    <tr>\n",
       "      <th>2020-06-11 12:00:00</th>\n",
       "      <td>jupyter-xiaomeilu1</td>\n",
       "      <td>0.444523</td>\n",
       "      <td>user</td>\n",
       "    </tr>\n",
       "    <tr>\n",
       "      <th>2020-06-11 10:00:00</th>\n",
       "      <td>jupyter-yaramohajerani</td>\n",
       "      <td>0.199013</td>\n",
       "      <td>user</td>\n",
       "    </tr>\n",
       "    <tr>\n",
       "      <th>2020-06-11 11:00:00</th>\n",
       "      <td>jupyter-yaramohajerani</td>\n",
       "      <td>0.238289</td>\n",
       "      <td>user</td>\n",
       "    </tr>\n",
       "    <tr>\n",
       "      <th>2020-06-11 12:00:00</th>\n",
       "      <td>jupyter-yaramohajerani</td>\n",
       "      <td>0.162060</td>\n",
       "      <td>user</td>\n",
       "    </tr>\n",
       "  </tbody>\n",
       "</table>\n",
       "<p>225 rows × 3 columns</p>\n",
       "</div>"
      ],
      "text/plain": [
       "                                             pod    memory   tag\n",
       "time                                                            \n",
       "2020-06-11 10:00:00             jupyter-aaarendt  0.143417  user\n",
       "2020-06-11 11:00:00             jupyter-aaarendt  0.231564  user\n",
       "2020-06-11 12:00:00             jupyter-aaarendt  0.232403  user\n",
       "2020-06-11 12:00:00  jupyter-abarciauskas-2dbgse  0.141663  user\n",
       "2020-06-11 10:00:00          jupyter-alexdibella  0.234222  user\n",
       "...                                          ...       ...   ...\n",
       "2020-06-11 11:00:00           jupyter-xiaomeilu1  0.276272  user\n",
       "2020-06-11 12:00:00           jupyter-xiaomeilu1  0.444523  user\n",
       "2020-06-11 10:00:00       jupyter-yaramohajerani  0.199013  user\n",
       "2020-06-11 11:00:00       jupyter-yaramohajerani  0.238289  user\n",
       "2020-06-11 12:00:00       jupyter-yaramohajerani  0.162060  user\n",
       "\n",
       "[225 rows x 3 columns]"
      ]
     },
     "execution_count": 30,
     "metadata": {},
     "output_type": "execute_result"
    }
   ],
   "source": [
    "pod_mem_df_formatted[(pod_mem_df_formatted.tag == \"user\") & (pod_mem_df_formatted.memory != 0)].loc[\"2020-06-11 10:00:00\":\"2020-06-11 12:00:00\"]"
   ]
  },
  {
   "cell_type": "code",
   "execution_count": 31,
   "metadata": {},
   "outputs": [
    {
     "data": {
      "text/plain": [
       "76"
      ]
     },
     "execution_count": 31,
     "metadata": {},
     "output_type": "execute_result"
    }
   ],
   "source": [
    "pod_mem_df_formatted[(pod_mem_df_formatted.memory != 0) &\n",
    "                     (pod_mem_df_formatted.tag == \"user\")].reset_index().groupby(\"time\").nunique().pod.max()"
   ]
  },
  {
   "cell_type": "code",
   "execution_count": 32,
   "metadata": {},
   "outputs": [
    {
     "data": {
      "text/plain": [
       "83"
      ]
     },
     "execution_count": 32,
     "metadata": {},
     "output_type": "execute_result"
    }
   ],
   "source": [
    "pod_cpu_df_formatted[(pod_cpu_df_formatted.cpu != 0) &\n",
    "                     (pod_cpu_df_formatted.tag == \"user\")].reset_index().groupby(\"time\").nunique().pod.max()"
   ]
  },
  {
   "cell_type": "markdown",
   "metadata": {},
   "source": [
    "The datasets give two different numbers. I'm inclined to trust the memory data's number more, as it isn't an hourly average. The CPU data's number can indicate the highest number of concurrent users in an hour, but it doesn't have more granularity than that. However, the memory data is only sampled at hourly intervals, so 76 is the highest number of concurrent users at the top of any hour."
   ]
  },
  {
   "cell_type": "markdown",
   "metadata": {},
   "source": [
    "### Number of Concurrent Users over Time"
   ]
  },
  {
   "cell_type": "code",
   "execution_count": 57,
   "metadata": {},
   "outputs": [],
   "source": [
    "users_over_time_mem = pod_mem_df_formatted[pod_mem_df_formatted.tag == \"user\"].reset_index().groupby(\"time\").nunique()\n",
    "users_over_time_cpu = pod_cpu_df_formatted[pod_cpu_df_formatted.tag == \"user\"].reset_index().groupby(\"time\").nunique()"
   ]
  },
  {
   "cell_type": "code",
   "execution_count": 60,
   "metadata": {},
   "outputs": [
    {
     "data": {
      "image/png": "[encoded data removed]",
      "text/plain": [
       "<Figure size 432x288 with 1 Axes>"
      ]
     },
     "metadata": {
      "needs_background": "light"
     },
     "output_type": "display_data"
    }
   ],
   "source": [
    "users_plot_0 = users_over_time_mem.loc[\"2020-06-07 12:00:00\":,\"memory\"].plot(y=\"memory\")\n",
    "users_plot_0 = plt.title(\"Users Over Time (At the Top of Every Hour)\")\n",
    "users_plot_0 = plt.ylabel(\"Number of Concurrent Users\")\n",
    "users_plot_0 = plt.legend().remove()\n",
    "users_plot_0 = plt.tight_layout()\n",
    "plt.savefig(\"icesat_2_hackweek_users_over_time.png\")"
   ]
  },
  {
   "cell_type": "code",
   "execution_count": 52,
   "metadata": {},
   "outputs": [
    {
     "data": {
      "image/png": "[encoded data removed]",
      "text/plain": [
       "<Figure size 432x288 with 1 Axes>"
      ]
     },
     "metadata": {
      "needs_background": "light"
     },
     "output_type": "display_data"
    }
   ],
   "source": [
    "users_plot_1 = users_over_time_cpu.plot()\n",
    "users_plot_1 = plt.title(\"Users Over Time (from cpu data)\")\n",
    "users_plot_0 = plt.ylabel(\"Number of Concurrent Users\")"
   ]
  },
  {
   "cell_type": "markdown",
   "metadata": {},
   "source": [
    "### Highest Average Cpu / Highest Memory Usages among Users\n",
    "\n",
    "I know that users got up to their allotted four cores on certain tutorials if the other users on their node weren't using at least 2 cores, but this data can't show that information."
   ]
  },
  {
   "cell_type": "code",
   "execution_count": 35,
   "metadata": {},
   "outputs": [
    {
     "data": {
      "text/html": [
       "<div>\n",
       "<style scoped>\n",
       "    .dataframe tbody tr th:only-of-type {\n",
       "        vertical-align: middle;\n",
       "    }\n",
       "\n",
       "    .dataframe tbody tr th {\n",
       "        vertical-align: top;\n",
       "    }\n",
       "\n",
       "    .dataframe thead th {\n",
       "        text-align: right;\n",
       "    }\n",
       "</style>\n",
       "<table border=\"1\" class=\"dataframe\">\n",
       "  <thead>\n",
       "    <tr style=\"text-align: right;\">\n",
       "      <th></th>\n",
       "      <th>pod</th>\n",
       "      <th>memory</th>\n",
       "      <th>tag</th>\n",
       "    </tr>\n",
       "    <tr>\n",
       "      <th>time</th>\n",
       "      <th></th>\n",
       "      <th></th>\n",
       "      <th></th>\n",
       "    </tr>\n",
       "  </thead>\n",
       "  <tbody>\n",
       "    <tr>\n",
       "      <th>2020-06-15 23:00:00</th>\n",
       "      <td>jupyter-junnsaito</td>\n",
       "      <td>7.956894</td>\n",
       "      <td>user</td>\n",
       "    </tr>\n",
       "    <tr>\n",
       "      <th>2020-06-15 18:00:00</th>\n",
       "      <td>jupyter-junnsaito</td>\n",
       "      <td>7.972603</td>\n",
       "      <td>user</td>\n",
       "    </tr>\n",
       "    <tr>\n",
       "      <th>2020-06-15 19:00:00</th>\n",
       "      <td>jupyter-junnsaito</td>\n",
       "      <td>7.972603</td>\n",
       "      <td>user</td>\n",
       "    </tr>\n",
       "    <tr>\n",
       "      <th>2020-06-15 20:00:00</th>\n",
       "      <td>jupyter-junnsaito</td>\n",
       "      <td>7.972641</td>\n",
       "      <td>user</td>\n",
       "    </tr>\n",
       "    <tr>\n",
       "      <th>2020-06-15 21:00:00</th>\n",
       "      <td>jupyter-junnsaito</td>\n",
       "      <td>7.972641</td>\n",
       "      <td>user</td>\n",
       "    </tr>\n",
       "  </tbody>\n",
       "</table>\n",
       "</div>"
      ],
      "text/plain": [
       "                                   pod    memory   tag\n",
       "time                                                  \n",
       "2020-06-15 23:00:00  jupyter-junnsaito  7.956894  user\n",
       "2020-06-15 18:00:00  jupyter-junnsaito  7.972603  user\n",
       "2020-06-15 19:00:00  jupyter-junnsaito  7.972603  user\n",
       "2020-06-15 20:00:00  jupyter-junnsaito  7.972641  user\n",
       "2020-06-15 21:00:00  jupyter-junnsaito  7.972641  user"
      ]
     },
     "execution_count": 35,
     "metadata": {},
     "output_type": "execute_result"
    }
   ],
   "source": [
    "pod_mem_df_formatted[pod_mem_df_formatted.tag == \"user\"].sort_values(\"memory\").tail()"
   ]
  },
  {
   "cell_type": "code",
   "execution_count": 36,
   "metadata": {},
   "outputs": [
    {
     "name": "stdout",
     "output_type": "stream",
     "text": [
      "The highest value of memory usage among users was 0.000000 GB.\n"
     ]
    }
   ],
   "source": [
    "highest_memory_usage = pod_mem_df_formatted[pod_mem_df_formatted.tag == \"user\"].sort_values(\"memory\").tail(1).values[0,1]\n",
    "print(\"The highest value of memory usage among users was %f GB.\" % (highest_memory_usage/1024/1024/1024))"
   ]
  },
  {
   "cell_type": "code",
   "execution_count": 37,
   "metadata": {},
   "outputs": [
    {
     "data": {
      "text/html": [
       "<div>\n",
       "<style scoped>\n",
       "    .dataframe tbody tr th:only-of-type {\n",
       "        vertical-align: middle;\n",
       "    }\n",
       "\n",
       "    .dataframe tbody tr th {\n",
       "        vertical-align: top;\n",
       "    }\n",
       "\n",
       "    .dataframe thead th {\n",
       "        text-align: right;\n",
       "    }\n",
       "</style>\n",
       "<table border=\"1\" class=\"dataframe\">\n",
       "  <thead>\n",
       "    <tr style=\"text-align: right;\">\n",
       "      <th></th>\n",
       "      <th>pod</th>\n",
       "      <th>cpu</th>\n",
       "      <th>tag</th>\n",
       "    </tr>\n",
       "    <tr>\n",
       "      <th>time</th>\n",
       "      <th></th>\n",
       "      <th></th>\n",
       "      <th></th>\n",
       "    </tr>\n",
       "  </thead>\n",
       "  <tbody>\n",
       "    <tr>\n",
       "      <th>2020-06-18 22:00:00</th>\n",
       "      <td>jupyter-jordibolibar</td>\n",
       "      <td>0.162629</td>\n",
       "      <td>user</td>\n",
       "    </tr>\n",
       "    <tr>\n",
       "      <th>2020-06-19 00:00:00</th>\n",
       "      <td>jupyter-jordibolibar</td>\n",
       "      <td>0.162647</td>\n",
       "      <td>user</td>\n",
       "    </tr>\n",
       "    <tr>\n",
       "      <th>2020-06-18 05:00:00</th>\n",
       "      <td>jupyter-jordibolibar</td>\n",
       "      <td>0.164446</td>\n",
       "      <td>user</td>\n",
       "    </tr>\n",
       "    <tr>\n",
       "      <th>2020-06-18 07:00:00</th>\n",
       "      <td>jupyter-jordibolibar</td>\n",
       "      <td>0.168105</td>\n",
       "      <td>user</td>\n",
       "    </tr>\n",
       "    <tr>\n",
       "      <th>2020-06-18 06:00:00</th>\n",
       "      <td>jupyter-jordibolibar</td>\n",
       "      <td>0.170051</td>\n",
       "      <td>user</td>\n",
       "    </tr>\n",
       "  </tbody>\n",
       "</table>\n",
       "</div>"
      ],
      "text/plain": [
       "                                      pod       cpu   tag\n",
       "time                                                     \n",
       "2020-06-18 22:00:00  jupyter-jordibolibar  0.162629  user\n",
       "2020-06-19 00:00:00  jupyter-jordibolibar  0.162647  user\n",
       "2020-06-18 05:00:00  jupyter-jordibolibar  0.164446  user\n",
       "2020-06-18 07:00:00  jupyter-jordibolibar  0.168105  user\n",
       "2020-06-18 06:00:00  jupyter-jordibolibar  0.170051  user"
      ]
     },
     "execution_count": 37,
     "metadata": {},
     "output_type": "execute_result"
    }
   ],
   "source": [
    "pod_cpu_df_formatted[pod_cpu_df_formatted.tag == \"user\"].sort_values(\"cpu\").tail()"
   ]
  },
  {
   "cell_type": "code",
   "execution_count": 38,
   "metadata": {},
   "outputs": [
    {
     "name": "stdout",
     "output_type": "stream",
     "text": [
      "The highest hourly CPU average usage was 0.162629 cores.\n"
     ]
    }
   ],
   "source": [
    "highest_avg_cpu_hour = pod_cpu_df_formatted[pod_cpu_df_formatted.tag == \"user\"].sort_values(\"cpu\").tail().values[0,1]\n",
    "print(\"The highest hourly CPU average usage was %f cores.\" % highest_avg_cpu_hour)"
   ]
  },
  {
   "cell_type": "markdown",
   "metadata": {},
   "source": [
    "### Compare User Pod Resource Usages with Cluster-side Pod Resource Usages"
   ]
  },
  {
   "cell_type": "code",
   "execution_count": 39,
   "metadata": {},
   "outputs": [
    {
     "data": {
      "text/html": [
       "<div>\n",
       "<style scoped>\n",
       "    .dataframe tbody tr th:only-of-type {\n",
       "        vertical-align: middle;\n",
       "    }\n",
       "\n",
       "    .dataframe tbody tr th {\n",
       "        vertical-align: top;\n",
       "    }\n",
       "\n",
       "    .dataframe thead tr th {\n",
       "        text-align: left;\n",
       "    }\n",
       "\n",
       "    .dataframe thead tr:last-of-type th {\n",
       "        text-align: right;\n",
       "    }\n",
       "</style>\n",
       "<table border=\"1\" class=\"dataframe\">\n",
       "  <thead>\n",
       "    <tr>\n",
       "      <th></th>\n",
       "      <th colspan=\"2\" halign=\"left\">memory</th>\n",
       "    </tr>\n",
       "    <tr>\n",
       "      <th>tag</th>\n",
       "      <th>cluster</th>\n",
       "      <th>user</th>\n",
       "    </tr>\n",
       "    <tr>\n",
       "      <th>time</th>\n",
       "      <th></th>\n",
       "      <th></th>\n",
       "    </tr>\n",
       "  </thead>\n",
       "  <tbody>\n",
       "    <tr>\n",
       "      <th>2020-06-07 12:00:00</th>\n",
       "      <td>0.734573</td>\n",
       "      <td>0.945374</td>\n",
       "    </tr>\n",
       "    <tr>\n",
       "      <th>2020-06-07 13:00:00</th>\n",
       "      <td>0.734798</td>\n",
       "      <td>2.573776</td>\n",
       "    </tr>\n",
       "    <tr>\n",
       "      <th>2020-06-07 14:00:00</th>\n",
       "      <td>0.735348</td>\n",
       "      <td>4.587296</td>\n",
       "    </tr>\n",
       "    <tr>\n",
       "      <th>2020-06-07 15:00:00</th>\n",
       "      <td>0.739006</td>\n",
       "      <td>4.906384</td>\n",
       "    </tr>\n",
       "    <tr>\n",
       "      <th>2020-06-07 16:00:00</th>\n",
       "      <td>0.737244</td>\n",
       "      <td>0.501987</td>\n",
       "    </tr>\n",
       "  </tbody>\n",
       "</table>\n",
       "</div>"
      ],
      "text/plain": [
       "                       memory          \n",
       "tag                   cluster      user\n",
       "time                                   \n",
       "2020-06-07 12:00:00  0.734573  0.945374\n",
       "2020-06-07 13:00:00  0.734798  2.573776\n",
       "2020-06-07 14:00:00  0.735348  4.587296\n",
       "2020-06-07 15:00:00  0.739006  4.906384\n",
       "2020-06-07 16:00:00  0.737244  0.501987"
      ]
     },
     "execution_count": 39,
     "metadata": {},
     "output_type": "execute_result"
    }
   ],
   "source": [
    "cluster_vs_user_memory = pod_mem_df_formatted.reset_index().groupby([\"time\", \"tag\"]).sum()\n",
    "cluster_vs_user_memory[cluster_vs_user_memory.memory != 0].unstack(level=1).head()"
   ]
  },
  {
   "cell_type": "code",
   "execution_count": 40,
   "metadata": {},
   "outputs": [
    {
     "data": {
      "text/plain": [
       "0.7347984313964844"
      ]
     },
     "execution_count": 40,
     "metadata": {},
     "output_type": "execute_result"
    }
   ],
   "source": [
    "788983808.0/1024/1024/1024"
   ]
  },
  {
   "cell_type": "code",
   "execution_count": 41,
   "metadata": {},
   "outputs": [],
   "source": [
    "first_data_point = cluster_vs_user_memory[cluster_vs_user_memory.memory != 0].index.values[0][0]"
   ]
  },
  {
   "cell_type": "code",
   "execution_count": 68,
   "metadata": {},
   "outputs": [
    {
     "data": {
      "text/plain": [
       "DatetimeIndex(['2020-06-07 12:00:00', '2020-06-07 13:00:00',\n",
       "               '2020-06-07 14:00:00', '2020-06-07 15:00:00',\n",
       "               '2020-06-07 16:00:00', '2020-06-07 17:00:00',\n",
       "               '2020-06-07 18:00:00', '2020-06-07 19:00:00',\n",
       "               '2020-06-07 20:00:00', '2020-06-07 21:00:00',\n",
       "               ...\n",
       "               '2020-06-22 07:00:00', '2020-06-22 08:00:00',\n",
       "               '2020-06-22 09:00:00', '2020-06-22 10:00:00',\n",
       "               '2020-06-22 11:00:00', '2020-06-22 12:00:00',\n",
       "               '2020-06-22 13:00:00', '2020-06-22 14:00:00',\n",
       "               '2020-06-22 15:00:00', '2020-06-22 16:00:00'],\n",
       "              dtype='datetime64[ns]', name='time', length=365, freq=None)"
      ]
     },
     "execution_count": 68,
     "metadata": {},
     "output_type": "execute_result"
    }
   ],
   "source": [
    "cluster_vs_user_memory.unstack(level=1)[first_data_point:].index"
   ]
  },
  {
   "cell_type": "code",
   "execution_count": 42,
   "metadata": {},
   "outputs": [
    {
     "data": {
      "image/png": "[encoded data removed]",
      "text/plain": [
       "<Figure size 432x288 with 1 Axes>"
      ]
     },
     "metadata": {
      "needs_background": "light"
     },
     "output_type": "display_data"
    }
   ],
   "source": [
    "_ = cluster_vs_user_memory.unstack(level=1)[first_data_point:].plot()\n",
    "_ = plt.ylabel(\"Memory (GB)\")\n",
    "_ = plt.title(\"User vs Cluster Pod Total Memory Usage\")\n",
    "_ = plt.legend([\"Cluster's Memory Usage\", \"Users' Memory Usage\"])\n",
    "_ = plt.tight_layout()\n",
    "plt.savefig(\"icesat_2_hackweek_memory_usage_comparison.png\")"
   ]
  },
  {
   "cell_type": "code",
   "execution_count": 43,
   "metadata": {},
   "outputs": [
    {
     "data": {
      "text/html": [
       "<div>\n",
       "<style scoped>\n",
       "    .dataframe tbody tr th:only-of-type {\n",
       "        vertical-align: middle;\n",
       "    }\n",
       "\n",
       "    .dataframe tbody tr th {\n",
       "        vertical-align: top;\n",
       "    }\n",
       "\n",
       "    .dataframe thead tr th {\n",
       "        text-align: left;\n",
       "    }\n",
       "\n",
       "    .dataframe thead tr:last-of-type th {\n",
       "        text-align: right;\n",
       "    }\n",
       "</style>\n",
       "<table border=\"1\" class=\"dataframe\">\n",
       "  <thead>\n",
       "    <tr>\n",
       "      <th></th>\n",
       "      <th colspan=\"2\" halign=\"left\">cpu</th>\n",
       "    </tr>\n",
       "    <tr>\n",
       "      <th>tag</th>\n",
       "      <th>cluster</th>\n",
       "      <th>user</th>\n",
       "    </tr>\n",
       "    <tr>\n",
       "      <th>time</th>\n",
       "      <th></th>\n",
       "      <th></th>\n",
       "    </tr>\n",
       "  </thead>\n",
       "  <tbody>\n",
       "    <tr>\n",
       "      <th>2020-06-07 12:00:00</th>\n",
       "      <td>0.002304</td>\n",
       "      <td>0.004714</td>\n",
       "    </tr>\n",
       "    <tr>\n",
       "      <th>2020-06-07 13:00:00</th>\n",
       "      <td>0.004607</td>\n",
       "      <td>0.007387</td>\n",
       "    </tr>\n",
       "    <tr>\n",
       "      <th>2020-06-07 14:00:00</th>\n",
       "      <td>0.006960</td>\n",
       "      <td>0.011291</td>\n",
       "    </tr>\n",
       "    <tr>\n",
       "      <th>2020-06-07 15:00:00</th>\n",
       "      <td>0.009432</td>\n",
       "      <td>0.013246</td>\n",
       "    </tr>\n",
       "    <tr>\n",
       "      <th>2020-06-07 16:00:00</th>\n",
       "      <td>0.011452</td>\n",
       "      <td>0.013555</td>\n",
       "    </tr>\n",
       "  </tbody>\n",
       "</table>\n",
       "</div>"
      ],
      "text/plain": [
       "                          cpu          \n",
       "tag                   cluster      user\n",
       "time                                   \n",
       "2020-06-07 12:00:00  0.002304  0.004714\n",
       "2020-06-07 13:00:00  0.004607  0.007387\n",
       "2020-06-07 14:00:00  0.006960  0.011291\n",
       "2020-06-07 15:00:00  0.009432  0.013246\n",
       "2020-06-07 16:00:00  0.011452  0.013555"
      ]
     },
     "execution_count": 43,
     "metadata": {},
     "output_type": "execute_result"
    }
   ],
   "source": [
    "cluster_vs_user_cpu = pod_cpu_df_formatted.reset_index().groupby([\"time\", \"tag\"]).sum()\n",
    "cluster_vs_user_cpu[cluster_vs_user_cpu.cpu != 0].unstack(level=1).head()"
   ]
  },
  {
   "cell_type": "code",
   "execution_count": 44,
   "metadata": {},
   "outputs": [
    {
     "data": {
      "image/png": "[encoded data removed]",
      "text/plain": [
       "<Figure size 432x288 with 1 Axes>"
      ]
     },
     "metadata": {
      "needs_background": "light"
     },
     "output_type": "display_data"
    }
   ],
   "source": [
    "_ = cluster_vs_user_cpu.unstack(level=1)[first_data_point:].plot()\n",
    "_ = plt.ylabel(\"CPU Usage(cores)\")\n",
    "_ = plt.title(\"Average Hourly CPU Usage for User vs Cluster Pods\")"
   ]
  },
  {
   "cell_type": "markdown",
   "metadata": {},
   "source": [
    "This plot seems to indicate that there is a large difference between cluster / user resource consumption when looking at memory or CPU usage. However, it is important to remember that the CPU data is an hourly average, so the data is heavily diluted for users. Users would have their pods perform intense computational tasks, but only for short periods of time. The cluster's pods generally performed at similar levels during the working hours of the day, so an hourly average diluted their data much less."
   ]
  },
  {
   "cell_type": "markdown",
   "metadata": {},
   "source": [
    "### Compare "
   ]
  },
  {
   "cell_type": "code",
   "execution_count": 45,
   "metadata": {},
   "outputs": [
    {
     "data": {
      "text/html": [
       "<div>\n",
       "<style scoped>\n",
       "    .dataframe tbody tr th:only-of-type {\n",
       "        vertical-align: middle;\n",
       "    }\n",
       "\n",
       "    .dataframe tbody tr th {\n",
       "        vertical-align: top;\n",
       "    }\n",
       "\n",
       "    .dataframe thead th {\n",
       "        text-align: right;\n",
       "    }\n",
       "</style>\n",
       "<table border=\"1\" class=\"dataframe\">\n",
       "  <thead>\n",
       "    <tr style=\"text-align: right;\">\n",
       "      <th></th>\n",
       "      <th>time</th>\n",
       "      <th>pod</th>\n",
       "      <th>memory</th>\n",
       "      <th>tag</th>\n",
       "    </tr>\n",
       "    <tr>\n",
       "      <th>time</th>\n",
       "      <th></th>\n",
       "      <th></th>\n",
       "      <th></th>\n",
       "      <th></th>\n",
       "    </tr>\n",
       "  </thead>\n",
       "  <tbody>\n",
       "    <tr>\n",
       "      <th>2020-06-07 12:00:00</th>\n",
       "      <td>1</td>\n",
       "      <td>3</td>\n",
       "      <td>3</td>\n",
       "      <td>1</td>\n",
       "    </tr>\n",
       "    <tr>\n",
       "      <th>2020-06-07 13:00:00</th>\n",
       "      <td>1</td>\n",
       "      <td>2</td>\n",
       "      <td>2</td>\n",
       "      <td>1</td>\n",
       "    </tr>\n",
       "    <tr>\n",
       "      <th>2020-06-07 14:00:00</th>\n",
       "      <td>1</td>\n",
       "      <td>2</td>\n",
       "      <td>2</td>\n",
       "      <td>1</td>\n",
       "    </tr>\n",
       "    <tr>\n",
       "      <th>2020-06-07 15:00:00</th>\n",
       "      <td>1</td>\n",
       "      <td>2</td>\n",
       "      <td>2</td>\n",
       "      <td>1</td>\n",
       "    </tr>\n",
       "    <tr>\n",
       "      <th>2020-06-07 16:00:00</th>\n",
       "      <td>1</td>\n",
       "      <td>1</td>\n",
       "      <td>1</td>\n",
       "      <td>1</td>\n",
       "    </tr>\n",
       "    <tr>\n",
       "      <th>...</th>\n",
       "      <td>...</td>\n",
       "      <td>...</td>\n",
       "      <td>...</td>\n",
       "      <td>...</td>\n",
       "    </tr>\n",
       "    <tr>\n",
       "      <th>2020-06-22 12:00:00</th>\n",
       "      <td>1</td>\n",
       "      <td>9</td>\n",
       "      <td>9</td>\n",
       "      <td>1</td>\n",
       "    </tr>\n",
       "    <tr>\n",
       "      <th>2020-06-22 13:00:00</th>\n",
       "      <td>1</td>\n",
       "      <td>8</td>\n",
       "      <td>8</td>\n",
       "      <td>1</td>\n",
       "    </tr>\n",
       "    <tr>\n",
       "      <th>2020-06-22 14:00:00</th>\n",
       "      <td>1</td>\n",
       "      <td>5</td>\n",
       "      <td>5</td>\n",
       "      <td>1</td>\n",
       "    </tr>\n",
       "    <tr>\n",
       "      <th>2020-06-22 15:00:00</th>\n",
       "      <td>1</td>\n",
       "      <td>6</td>\n",
       "      <td>6</td>\n",
       "      <td>1</td>\n",
       "    </tr>\n",
       "    <tr>\n",
       "      <th>2020-06-22 16:00:00</th>\n",
       "      <td>1</td>\n",
       "      <td>6</td>\n",
       "      <td>6</td>\n",
       "      <td>1</td>\n",
       "    </tr>\n",
       "  </tbody>\n",
       "</table>\n",
       "<p>347 rows × 4 columns</p>\n",
       "</div>"
      ],
      "text/plain": [
       "                     time  pod  memory  tag\n",
       "time                                       \n",
       "2020-06-07 12:00:00     1    3       3    1\n",
       "2020-06-07 13:00:00     1    2       2    1\n",
       "2020-06-07 14:00:00     1    2       2    1\n",
       "2020-06-07 15:00:00     1    2       2    1\n",
       "2020-06-07 16:00:00     1    1       1    1\n",
       "...                   ...  ...     ...  ...\n",
       "2020-06-22 12:00:00     1    9       9    1\n",
       "2020-06-22 13:00:00     1    8       8    1\n",
       "2020-06-22 14:00:00     1    5       5    1\n",
       "2020-06-22 15:00:00     1    6       6    1\n",
       "2020-06-22 16:00:00     1    6       6    1\n",
       "\n",
       "[347 rows x 4 columns]"
      ]
     },
     "execution_count": 45,
     "metadata": {},
     "output_type": "execute_result"
    }
   ],
   "source": [
    "users_over_time_mem"
   ]
  },
  {
   "cell_type": "code",
   "execution_count": 46,
   "metadata": {},
   "outputs": [
    {
     "data": {
      "text/html": [
       "<div>\n",
       "<style scoped>\n",
       "    .dataframe tbody tr th:only-of-type {\n",
       "        vertical-align: middle;\n",
       "    }\n",
       "\n",
       "    .dataframe tbody tr th {\n",
       "        vertical-align: top;\n",
       "    }\n",
       "\n",
       "    .dataframe thead tr th {\n",
       "        text-align: left;\n",
       "    }\n",
       "\n",
       "    .dataframe thead tr:last-of-type th {\n",
       "        text-align: right;\n",
       "    }\n",
       "</style>\n",
       "<table border=\"1\" class=\"dataframe\">\n",
       "  <thead>\n",
       "    <tr>\n",
       "      <th></th>\n",
       "      <th colspan=\"2\" halign=\"left\">memory</th>\n",
       "    </tr>\n",
       "    <tr>\n",
       "      <th>tag</th>\n",
       "      <th>cluster</th>\n",
       "      <th>user</th>\n",
       "    </tr>\n",
       "    <tr>\n",
       "      <th>time</th>\n",
       "      <th></th>\n",
       "      <th></th>\n",
       "    </tr>\n",
       "  </thead>\n",
       "  <tbody>\n",
       "    <tr>\n",
       "      <th>2020-06-07 12:00:00</th>\n",
       "      <td>0.734573</td>\n",
       "      <td>0.945374</td>\n",
       "    </tr>\n",
       "    <tr>\n",
       "      <th>2020-06-07 13:00:00</th>\n",
       "      <td>0.734798</td>\n",
       "      <td>2.573776</td>\n",
       "    </tr>\n",
       "    <tr>\n",
       "      <th>2020-06-07 14:00:00</th>\n",
       "      <td>0.735348</td>\n",
       "      <td>4.587296</td>\n",
       "    </tr>\n",
       "    <tr>\n",
       "      <th>2020-06-07 15:00:00</th>\n",
       "      <td>0.739006</td>\n",
       "      <td>4.906384</td>\n",
       "    </tr>\n",
       "    <tr>\n",
       "      <th>2020-06-07 16:00:00</th>\n",
       "      <td>0.737244</td>\n",
       "      <td>0.501987</td>\n",
       "    </tr>\n",
       "    <tr>\n",
       "      <th>...</th>\n",
       "      <td>...</td>\n",
       "      <td>...</td>\n",
       "    </tr>\n",
       "    <tr>\n",
       "      <th>2020-06-22 12:00:00</th>\n",
       "      <td>0.965996</td>\n",
       "      <td>11.120472</td>\n",
       "    </tr>\n",
       "    <tr>\n",
       "      <th>2020-06-22 13:00:00</th>\n",
       "      <td>0.968933</td>\n",
       "      <td>10.502697</td>\n",
       "    </tr>\n",
       "    <tr>\n",
       "      <th>2020-06-22 14:00:00</th>\n",
       "      <td>0.968155</td>\n",
       "      <td>7.030155</td>\n",
       "    </tr>\n",
       "    <tr>\n",
       "      <th>2020-06-22 15:00:00</th>\n",
       "      <td>0.967007</td>\n",
       "      <td>7.523537</td>\n",
       "    </tr>\n",
       "    <tr>\n",
       "      <th>2020-06-22 16:00:00</th>\n",
       "      <td>1.028259</td>\n",
       "      <td>5.976463</td>\n",
       "    </tr>\n",
       "  </tbody>\n",
       "</table>\n",
       "<p>365 rows × 2 columns</p>\n",
       "</div>"
      ],
      "text/plain": [
       "                       memory           \n",
       "tag                   cluster       user\n",
       "time                                    \n",
       "2020-06-07 12:00:00  0.734573   0.945374\n",
       "2020-06-07 13:00:00  0.734798   2.573776\n",
       "2020-06-07 14:00:00  0.735348   4.587296\n",
       "2020-06-07 15:00:00  0.739006   4.906384\n",
       "2020-06-07 16:00:00  0.737244   0.501987\n",
       "...                       ...        ...\n",
       "2020-06-22 12:00:00  0.965996  11.120472\n",
       "2020-06-22 13:00:00  0.968933  10.502697\n",
       "2020-06-22 14:00:00  0.968155   7.030155\n",
       "2020-06-22 15:00:00  0.967007   7.523537\n",
       "2020-06-22 16:00:00  1.028259   5.976463\n",
       "\n",
       "[365 rows x 2 columns]"
      ]
     },
     "execution_count": 46,
     "metadata": {},
     "output_type": "execute_result"
    }
   ],
   "source": [
    "cluster_vs_user_memory.unstack(level=1)[first_data_point:]"
   ]
  },
  {
   "cell_type": "code",
   "execution_count": null,
   "metadata": {},
   "outputs": [],
   "source": []
  }
 ],
 "metadata": {
  "kernelspec": {
   "display_name": "Python 3",
   "language": "python",
   "name": "python3"
  },
  "language_info": {
   "codemirror_mode": {
    "name": "ipython",
    "version": 3
   },
   "file_extension": ".py",
   "mimetype": "text/x-python",
   "name": "python",
   "nbconvert_exporter": "python",
   "pygments_lexer": "ipython3",
   "version": "3.7.6"
  }
 },
 "nbformat": 4,
 "nbformat_minor": 4
}
