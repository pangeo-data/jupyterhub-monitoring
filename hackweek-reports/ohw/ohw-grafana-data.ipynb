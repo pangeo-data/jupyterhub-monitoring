{
 "cells": [
  {
   "cell_type": "markdown",
   "metadata": {},
   "source": [
    "# OceanHackWeek 2020 Operational Data Insights\n",
    "\n",
    "Putting Prometheus and Grafana on the hackweek's kubernetes cluster was a great idea as it allowed me to see some easy visualizations for cluster health. There is also the benefit of being able to export data from Grafana dashboards to analyze in Pandas. It would be nice to export the data from Prometheus itself, as I have now realized that about two weeks of data is the maximum that Prometheus will save for the setup of this cluster. The export for the data used here was just under two weeks past the start of the hackweek, so it is the only data of its kind that we have for this hackweek."
   ]
  },
  {
   "cell_type": "code",
   "execution_count": 1,
   "metadata": {},
   "outputs": [
    {
     "ename": "ModuleNotFoundError",
     "evalue": "No module named 'matplotlib'",
     "output_type": "error",
     "traceback": [
      "\u001b[0;31m---------------------------------------------------------------------------\u001b[0m",
      "\u001b[0;31mModuleNotFoundError\u001b[0m                       Traceback (most recent call last)",
      "\u001b[0;32m<ipython-input-1-7a0d4a2698d3>\u001b[0m in \u001b[0;36m<module>\u001b[0;34m\u001b[0m\n\u001b[1;32m      1\u001b[0m \u001b[0;32mimport\u001b[0m \u001b[0mnumpy\u001b[0m \u001b[0;32mas\u001b[0m \u001b[0mnp\u001b[0m\u001b[0;34m\u001b[0m\u001b[0;34m\u001b[0m\u001b[0m\n\u001b[0;32m----> 2\u001b[0;31m \u001b[0;32mimport\u001b[0m \u001b[0mmatplotlib\u001b[0m\u001b[0;34m.\u001b[0m\u001b[0mpyplot\u001b[0m \u001b[0;32mas\u001b[0m \u001b[0mplt\u001b[0m\u001b[0;34m\u001b[0m\u001b[0;34m\u001b[0m\u001b[0m\n\u001b[0m\u001b[1;32m      3\u001b[0m \u001b[0;32mimport\u001b[0m \u001b[0mpandas\u001b[0m \u001b[0;32mas\u001b[0m \u001b[0mpd\u001b[0m\u001b[0;34m\u001b[0m\u001b[0;34m\u001b[0m\u001b[0m\n\u001b[1;32m      4\u001b[0m \u001b[0;32mimport\u001b[0m \u001b[0mseaborn\u001b[0m \u001b[0;32mas\u001b[0m \u001b[0msns\u001b[0m\u001b[0;34m\u001b[0m\u001b[0;34m\u001b[0m\u001b[0m\n\u001b[1;32m      5\u001b[0m \u001b[0;34m\u001b[0m\u001b[0m\n",
      "\u001b[0;31mModuleNotFoundError\u001b[0m: No module named 'matplotlib'"
     ]
    }
   ],
   "source": [
    "import numpy as np\n",
    "import matplotlib.pyplot as plt\n",
    "import pandas as pd\n",
    "import seaborn as sns\n",
    "\n",
    "sns.set(style=\"darkgrid\")\n",
    "\n",
    "%matplotlib inline"
   ]
  },
  {
   "cell_type": "code",
   "execution_count": 5,
   "metadata": {},
   "outputs": [],
   "source": [
    "pod_mem_csv_file = \"~/Documents/hackweek-reports/ohw/ohw-mem-data.csv\"\n",
    "pod_cpu_csv_file = \"~/Documents/hackweek-reports/ohw/ohw-cpu-data-10m.csv\""
   ]
  },
  {
   "cell_type": "markdown",
   "metadata": {},
   "source": [
    "## Memory\n",
    "\n",
    "Examine the data"
   ]
  },
  {
   "cell_type": "code",
   "execution_count": 6,
   "metadata": {},
   "outputs": [
    {
     "data": {
      "text/html": [
       "<div>\n",
       "<style scoped>\n",
       "    .dataframe tbody tr th:only-of-type {\n",
       "        vertical-align: middle;\n",
       "    }\n",
       "\n",
       "    .dataframe tbody tr th {\n",
       "        vertical-align: top;\n",
       "    }\n",
       "\n",
       "    .dataframe thead th {\n",
       "        text-align: right;\n",
       "    }\n",
       "</style>\n",
       "<table border=\"1\" class=\"dataframe\">\n",
       "  <thead>\n",
       "    <tr style=\"text-align: right;\">\n",
       "      <th></th>\n",
       "      <th>Series;\"Time\";\"Value\"</th>\n",
       "    </tr>\n",
       "  </thead>\n",
       "  <tbody>\n",
       "    <tr>\n",
       "      <th>0</th>\n",
       "      <td>aws-node-termination-handler-dd8v2;\"2020-08-08...</td>\n",
       "    </tr>\n",
       "    <tr>\n",
       "      <th>1</th>\n",
       "      <td>aws-node-termination-handler-dd8v2;\"2020-08-08...</td>\n",
       "    </tr>\n",
       "    <tr>\n",
       "      <th>2</th>\n",
       "      <td>aws-node-termination-handler-dd8v2;\"2020-08-08...</td>\n",
       "    </tr>\n",
       "    <tr>\n",
       "      <th>3</th>\n",
       "      <td>aws-node-termination-handler-dd8v2;\"2020-08-08...</td>\n",
       "    </tr>\n",
       "    <tr>\n",
       "      <th>4</th>\n",
       "      <td>aws-node-termination-handler-dd8v2;\"2020-08-08...</td>\n",
       "    </tr>\n",
       "  </tbody>\n",
       "</table>\n",
       "</div>"
      ],
      "text/plain": [
       "                               Series;\"Time\";\"Value\"\n",
       "0  aws-node-termination-handler-dd8v2;\"2020-08-08...\n",
       "1  aws-node-termination-handler-dd8v2;\"2020-08-08...\n",
       "2  aws-node-termination-handler-dd8v2;\"2020-08-08...\n",
       "3  aws-node-termination-handler-dd8v2;\"2020-08-08...\n",
       "4  aws-node-termination-handler-dd8v2;\"2020-08-08..."
      ]
     },
     "execution_count": 6,
     "metadata": {},
     "output_type": "execute_result"
    }
   ],
   "source": [
    "pod_mem_df = pd.read_csv(pod_mem_csv_file)\n",
    "pod_mem_df.head()"
   ]
  },
  {
   "cell_type": "code",
   "execution_count": 7,
   "metadata": {},
   "outputs": [
    {
     "data": {
      "text/plain": [
       "array([['jupyter-cooleyky;\"2020-08-22T04:30:00-07:00\";null'],\n",
       "       ['jupyter-cooleyky;\"2020-08-22T04:45:00-07:00\";null'],\n",
       "       ['jupyter-cooleyky;\"2020-08-22T05:00:00-07:00\";null'],\n",
       "       ['jupyter-cooleyky;\"2020-08-22T05:15:00-07:00\";null'],\n",
       "       ['jupyter-cooleyky;\"2']], dtype=object)"
      ]
     },
     "execution_count": 7,
     "metadata": {},
     "output_type": "execute_result"
    }
   ],
   "source": [
    "pod_mem_df.tail().values"
   ]
  },
  {
   "cell_type": "markdown",
   "metadata": {},
   "source": [
    "Looks like the data is formatted as \"pod name\";\"timestamp\";\"value\""
   ]
  },
  {
   "cell_type": "code",
   "execution_count": 8,
   "metadata": {},
   "outputs": [
    {
     "data": {
      "text/plain": [
       "Index(['Series;\"Time\";\"Value\"'], dtype='object')"
      ]
     },
     "execution_count": 8,
     "metadata": {},
     "output_type": "execute_result"
    }
   ],
   "source": [
    "pod_mem_df.columns"
   ]
  },
  {
   "cell_type": "code",
   "execution_count": 9,
   "metadata": {},
   "outputs": [
    {
     "data": {
      "text/plain": [
       "'aws-node-termination-handler-dd8v2;\"2020-08-08T12:00:00-07:00\";null'"
      ]
     },
     "execution_count": 9,
     "metadata": {},
     "output_type": "execute_result"
    }
   ],
   "source": [
    "pod_mem_df.iloc[0,0]"
   ]
  },
  {
   "cell_type": "markdown",
   "metadata": {},
   "source": [
    "Since this data is just a long string, we need to convert it into 3 columns and make them usable. \n",
    "\n",
    "Prototype conversion below"
   ]
  },
  {
   "cell_type": "code",
   "execution_count": 10,
   "metadata": {},
   "outputs": [
    {
     "data": {
      "text/html": [
       "<div>\n",
       "<style scoped>\n",
       "    .dataframe tbody tr th:only-of-type {\n",
       "        vertical-align: middle;\n",
       "    }\n",
       "\n",
       "    .dataframe tbody tr th {\n",
       "        vertical-align: top;\n",
       "    }\n",
       "\n",
       "    .dataframe thead th {\n",
       "        text-align: right;\n",
       "    }\n",
       "</style>\n",
       "<table border=\"1\" class=\"dataframe\">\n",
       "  <thead>\n",
       "    <tr style=\"text-align: right;\">\n",
       "      <th></th>\n",
       "      <th>0</th>\n",
       "      <th>1</th>\n",
       "      <th>2</th>\n",
       "    </tr>\n",
       "  </thead>\n",
       "  <tbody>\n",
       "    <tr>\n",
       "      <th>0</th>\n",
       "      <td>aws-node-termination-handler-dd8v2</td>\n",
       "      <td>\"2020-08-08T12:00:00-07:00\"</td>\n",
       "      <td>null</td>\n",
       "    </tr>\n",
       "    <tr>\n",
       "      <th>1</th>\n",
       "      <td>aws-node-termination-handler-dd8v2</td>\n",
       "      <td>\"2020-08-08T12:15:00-07:00\"</td>\n",
       "      <td>null</td>\n",
       "    </tr>\n",
       "    <tr>\n",
       "      <th>2</th>\n",
       "      <td>aws-node-termination-handler-dd8v2</td>\n",
       "      <td>\"2020-08-08T12:30:00-07:00\"</td>\n",
       "      <td>null</td>\n",
       "    </tr>\n",
       "    <tr>\n",
       "      <th>3</th>\n",
       "      <td>aws-node-termination-handler-dd8v2</td>\n",
       "      <td>\"2020-08-08T12:45:00-07:00\"</td>\n",
       "      <td>null</td>\n",
       "    </tr>\n",
       "    <tr>\n",
       "      <th>4</th>\n",
       "      <td>aws-node-termination-handler-dd8v2</td>\n",
       "      <td>\"2020-08-08T13:00:00-07:00\"</td>\n",
       "      <td>null</td>\n",
       "    </tr>\n",
       "  </tbody>\n",
       "</table>\n",
       "</div>"
      ],
      "text/plain": [
       "                                    0                            1     2\n",
       "0  aws-node-termination-handler-dd8v2  \"2020-08-08T12:00:00-07:00\"  null\n",
       "1  aws-node-termination-handler-dd8v2  \"2020-08-08T12:15:00-07:00\"  null\n",
       "2  aws-node-termination-handler-dd8v2  \"2020-08-08T12:30:00-07:00\"  null\n",
       "3  aws-node-termination-handler-dd8v2  \"2020-08-08T12:45:00-07:00\"  null\n",
       "4  aws-node-termination-handler-dd8v2  \"2020-08-08T13:00:00-07:00\"  null"
      ]
     },
     "execution_count": 10,
     "metadata": {},
     "output_type": "execute_result"
    }
   ],
   "source": [
    "split_test_df = pod_mem_df.iloc[0:5,0].str.split(\";\", expand=True)\n",
    "split_test_df"
   ]
  },
  {
   "cell_type": "code",
   "execution_count": 11,
   "metadata": {},
   "outputs": [
    {
     "data": {
      "text/html": [
       "<div>\n",
       "<style scoped>\n",
       "    .dataframe tbody tr th:only-of-type {\n",
       "        vertical-align: middle;\n",
       "    }\n",
       "\n",
       "    .dataframe tbody tr th {\n",
       "        vertical-align: top;\n",
       "    }\n",
       "\n",
       "    .dataframe thead th {\n",
       "        text-align: right;\n",
       "    }\n",
       "</style>\n",
       "<table border=\"1\" class=\"dataframe\">\n",
       "  <thead>\n",
       "    <tr style=\"text-align: right;\">\n",
       "      <th></th>\n",
       "      <th>pod</th>\n",
       "      <th>time</th>\n",
       "      <th>memory</th>\n",
       "    </tr>\n",
       "  </thead>\n",
       "  <tbody>\n",
       "    <tr>\n",
       "      <th>0</th>\n",
       "      <td>aws-node-termination-handler-dd8v2</td>\n",
       "      <td>\"2020-08-08T12:00:00-07:00\"</td>\n",
       "      <td>null</td>\n",
       "    </tr>\n",
       "    <tr>\n",
       "      <th>1</th>\n",
       "      <td>aws-node-termination-handler-dd8v2</td>\n",
       "      <td>\"2020-08-08T12:15:00-07:00\"</td>\n",
       "      <td>null</td>\n",
       "    </tr>\n",
       "    <tr>\n",
       "      <th>2</th>\n",
       "      <td>aws-node-termination-handler-dd8v2</td>\n",
       "      <td>\"2020-08-08T12:30:00-07:00\"</td>\n",
       "      <td>null</td>\n",
       "    </tr>\n",
       "    <tr>\n",
       "      <th>3</th>\n",
       "      <td>aws-node-termination-handler-dd8v2</td>\n",
       "      <td>\"2020-08-08T12:45:00-07:00\"</td>\n",
       "      <td>null</td>\n",
       "    </tr>\n",
       "    <tr>\n",
       "      <th>4</th>\n",
       "      <td>aws-node-termination-handler-dd8v2</td>\n",
       "      <td>\"2020-08-08T13:00:00-07:00\"</td>\n",
       "      <td>null</td>\n",
       "    </tr>\n",
       "  </tbody>\n",
       "</table>\n",
       "</div>"
      ],
      "text/plain": [
       "                                  pod                         time memory\n",
       "0  aws-node-termination-handler-dd8v2  \"2020-08-08T12:00:00-07:00\"   null\n",
       "1  aws-node-termination-handler-dd8v2  \"2020-08-08T12:15:00-07:00\"   null\n",
       "2  aws-node-termination-handler-dd8v2  \"2020-08-08T12:30:00-07:00\"   null\n",
       "3  aws-node-termination-handler-dd8v2  \"2020-08-08T12:45:00-07:00\"   null\n",
       "4  aws-node-termination-handler-dd8v2  \"2020-08-08T13:00:00-07:00\"   null"
      ]
     },
     "execution_count": 11,
     "metadata": {},
     "output_type": "execute_result"
    }
   ],
   "source": [
    "split_test_df.columns = [\"pod\", \"time\", \"memory\"]\n",
    "split_test_df"
   ]
  },
  {
   "cell_type": "code",
   "execution_count": 12,
   "metadata": {},
   "outputs": [
    {
     "data": {
      "text/html": [
       "<div>\n",
       "<style scoped>\n",
       "    .dataframe tbody tr th:only-of-type {\n",
       "        vertical-align: middle;\n",
       "    }\n",
       "\n",
       "    .dataframe tbody tr th {\n",
       "        vertical-align: top;\n",
       "    }\n",
       "\n",
       "    .dataframe thead th {\n",
       "        text-align: right;\n",
       "    }\n",
       "</style>\n",
       "<table border=\"1\" class=\"dataframe\">\n",
       "  <thead>\n",
       "    <tr style=\"text-align: right;\">\n",
       "      <th></th>\n",
       "      <th>pod</th>\n",
       "      <th>time</th>\n",
       "      <th>memory</th>\n",
       "    </tr>\n",
       "  </thead>\n",
       "  <tbody>\n",
       "    <tr>\n",
       "      <th>0</th>\n",
       "      <td>aws-node-termination-handler-dd8v2</td>\n",
       "      <td>2020-08-08T12:00:00</td>\n",
       "      <td>null</td>\n",
       "    </tr>\n",
       "    <tr>\n",
       "      <th>1</th>\n",
       "      <td>aws-node-termination-handler-dd8v2</td>\n",
       "      <td>2020-08-08T12:15:00</td>\n",
       "      <td>null</td>\n",
       "    </tr>\n",
       "    <tr>\n",
       "      <th>2</th>\n",
       "      <td>aws-node-termination-handler-dd8v2</td>\n",
       "      <td>2020-08-08T12:30:00</td>\n",
       "      <td>null</td>\n",
       "    </tr>\n",
       "    <tr>\n",
       "      <th>3</th>\n",
       "      <td>aws-node-termination-handler-dd8v2</td>\n",
       "      <td>2020-08-08T12:45:00</td>\n",
       "      <td>null</td>\n",
       "    </tr>\n",
       "    <tr>\n",
       "      <th>4</th>\n",
       "      <td>aws-node-termination-handler-dd8v2</td>\n",
       "      <td>2020-08-08T13:00:00</td>\n",
       "      <td>null</td>\n",
       "    </tr>\n",
       "  </tbody>\n",
       "</table>\n",
       "</div>"
      ],
      "text/plain": [
       "                                  pod                 time memory\n",
       "0  aws-node-termination-handler-dd8v2  2020-08-08T12:00:00   null\n",
       "1  aws-node-termination-handler-dd8v2  2020-08-08T12:15:00   null\n",
       "2  aws-node-termination-handler-dd8v2  2020-08-08T12:30:00   null\n",
       "3  aws-node-termination-handler-dd8v2  2020-08-08T12:45:00   null\n",
       "4  aws-node-termination-handler-dd8v2  2020-08-08T13:00:00   null"
      ]
     },
     "execution_count": 12,
     "metadata": {},
     "output_type": "execute_result"
    }
   ],
   "source": [
    "split_test_df.loc[:,\"time\"] = [value[1:][:-7] for value in split_test_df.loc[:, \"time\"]]\n",
    "split_test_df"
   ]
  },
  {
   "cell_type": "code",
   "execution_count": 13,
   "metadata": {},
   "outputs": [],
   "source": [
    "split_test_df.loc[:, \"time\"] = pd.to_datetime(split_test_df.time, format=\"%Y-%m-%dT%H:%M:%S\")"
   ]
  },
  {
   "cell_type": "code",
   "execution_count": 14,
   "metadata": {},
   "outputs": [
    {
     "data": {
      "text/html": [
       "<div>\n",
       "<style scoped>\n",
       "    .dataframe tbody tr th:only-of-type {\n",
       "        vertical-align: middle;\n",
       "    }\n",
       "\n",
       "    .dataframe tbody tr th {\n",
       "        vertical-align: top;\n",
       "    }\n",
       "\n",
       "    .dataframe thead th {\n",
       "        text-align: right;\n",
       "    }\n",
       "</style>\n",
       "<table border=\"1\" class=\"dataframe\">\n",
       "  <thead>\n",
       "    <tr style=\"text-align: right;\">\n",
       "      <th></th>\n",
       "      <th>pod</th>\n",
       "      <th>time</th>\n",
       "      <th>memory</th>\n",
       "    </tr>\n",
       "  </thead>\n",
       "  <tbody>\n",
       "    <tr>\n",
       "      <th>0</th>\n",
       "      <td>aws-node-termination-handler-dd8v2</td>\n",
       "      <td>2020-08-08 12:00:00</td>\n",
       "      <td>null</td>\n",
       "    </tr>\n",
       "    <tr>\n",
       "      <th>1</th>\n",
       "      <td>aws-node-termination-handler-dd8v2</td>\n",
       "      <td>2020-08-08 12:15:00</td>\n",
       "      <td>null</td>\n",
       "    </tr>\n",
       "    <tr>\n",
       "      <th>2</th>\n",
       "      <td>aws-node-termination-handler-dd8v2</td>\n",
       "      <td>2020-08-08 12:30:00</td>\n",
       "      <td>null</td>\n",
       "    </tr>\n",
       "    <tr>\n",
       "      <th>3</th>\n",
       "      <td>aws-node-termination-handler-dd8v2</td>\n",
       "      <td>2020-08-08 12:45:00</td>\n",
       "      <td>null</td>\n",
       "    </tr>\n",
       "    <tr>\n",
       "      <th>4</th>\n",
       "      <td>aws-node-termination-handler-dd8v2</td>\n",
       "      <td>2020-08-08 13:00:00</td>\n",
       "      <td>null</td>\n",
       "    </tr>\n",
       "  </tbody>\n",
       "</table>\n",
       "</div>"
      ],
      "text/plain": [
       "                                  pod                time memory\n",
       "0  aws-node-termination-handler-dd8v2 2020-08-08 12:00:00   null\n",
       "1  aws-node-termination-handler-dd8v2 2020-08-08 12:15:00   null\n",
       "2  aws-node-termination-handler-dd8v2 2020-08-08 12:30:00   null\n",
       "3  aws-node-termination-handler-dd8v2 2020-08-08 12:45:00   null\n",
       "4  aws-node-termination-handler-dd8v2 2020-08-08 13:00:00   null"
      ]
     },
     "execution_count": 14,
     "metadata": {},
     "output_type": "execute_result"
    }
   ],
   "source": [
    "split_test_df"
   ]
  },
  {
   "cell_type": "code",
   "execution_count": 15,
   "metadata": {},
   "outputs": [
    {
     "data": {
      "text/plain": [
       "0   2020-08-08 12:00:00\n",
       "1   2020-08-08 12:15:00\n",
       "2   2020-08-08 12:30:00\n",
       "3   2020-08-08 12:45:00\n",
       "4   2020-08-08 13:00:00\n",
       "Name: time, dtype: datetime64[ns]"
      ]
     },
     "execution_count": 15,
     "metadata": {},
     "output_type": "execute_result"
    }
   ],
   "source": [
    "split_test_df.time"
   ]
  },
  {
   "cell_type": "code",
   "execution_count": 16,
   "metadata": {},
   "outputs": [
    {
     "data": {
      "text/html": [
       "<div>\n",
       "<style scoped>\n",
       "    .dataframe tbody tr th:only-of-type {\n",
       "        vertical-align: middle;\n",
       "    }\n",
       "\n",
       "    .dataframe tbody tr th {\n",
       "        vertical-align: top;\n",
       "    }\n",
       "\n",
       "    .dataframe thead th {\n",
       "        text-align: right;\n",
       "    }\n",
       "</style>\n",
       "<table border=\"1\" class=\"dataframe\">\n",
       "  <thead>\n",
       "    <tr style=\"text-align: right;\">\n",
       "      <th></th>\n",
       "      <th>pod</th>\n",
       "      <th>memory</th>\n",
       "    </tr>\n",
       "    <tr>\n",
       "      <th>time</th>\n",
       "      <th></th>\n",
       "      <th></th>\n",
       "    </tr>\n",
       "  </thead>\n",
       "  <tbody>\n",
       "    <tr>\n",
       "      <th>2020-08-08 12:00:00</th>\n",
       "      <td>aws-node-termination-handler-dd8v2</td>\n",
       "      <td>null</td>\n",
       "    </tr>\n",
       "    <tr>\n",
       "      <th>2020-08-08 12:15:00</th>\n",
       "      <td>aws-node-termination-handler-dd8v2</td>\n",
       "      <td>null</td>\n",
       "    </tr>\n",
       "    <tr>\n",
       "      <th>2020-08-08 12:30:00</th>\n",
       "      <td>aws-node-termination-handler-dd8v2</td>\n",
       "      <td>null</td>\n",
       "    </tr>\n",
       "    <tr>\n",
       "      <th>2020-08-08 12:45:00</th>\n",
       "      <td>aws-node-termination-handler-dd8v2</td>\n",
       "      <td>null</td>\n",
       "    </tr>\n",
       "    <tr>\n",
       "      <th>2020-08-08 13:00:00</th>\n",
       "      <td>aws-node-termination-handler-dd8v2</td>\n",
       "      <td>null</td>\n",
       "    </tr>\n",
       "  </tbody>\n",
       "</table>\n",
       "</div>"
      ],
      "text/plain": [
       "                                                    pod memory\n",
       "time                                                          \n",
       "2020-08-08 12:00:00  aws-node-termination-handler-dd8v2   null\n",
       "2020-08-08 12:15:00  aws-node-termination-handler-dd8v2   null\n",
       "2020-08-08 12:30:00  aws-node-termination-handler-dd8v2   null\n",
       "2020-08-08 12:45:00  aws-node-termination-handler-dd8v2   null\n",
       "2020-08-08 13:00:00  aws-node-termination-handler-dd8v2   null"
      ]
     },
     "execution_count": 16,
     "metadata": {},
     "output_type": "execute_result"
    }
   ],
   "source": [
    "split_test_df.set_index(\"time\")"
   ]
  },
  {
   "cell_type": "markdown",
   "metadata": {},
   "source": [
    "### Memory Data Cleaning / Formatting"
   ]
  },
  {
   "cell_type": "code",
   "execution_count": 17,
   "metadata": {},
   "outputs": [
    {
     "data": {
      "text/html": [
       "<div>\n",
       "<style scoped>\n",
       "    .dataframe tbody tr th:only-of-type {\n",
       "        vertical-align: middle;\n",
       "    }\n",
       "\n",
       "    .dataframe tbody tr th {\n",
       "        vertical-align: top;\n",
       "    }\n",
       "\n",
       "    .dataframe thead th {\n",
       "        text-align: right;\n",
       "    }\n",
       "</style>\n",
       "<table border=\"1\" class=\"dataframe\">\n",
       "  <thead>\n",
       "    <tr style=\"text-align: right;\">\n",
       "      <th></th>\n",
       "      <th>pod</th>\n",
       "      <th>memory</th>\n",
       "    </tr>\n",
       "    <tr>\n",
       "      <th>time</th>\n",
       "      <th></th>\n",
       "      <th></th>\n",
       "    </tr>\n",
       "  </thead>\n",
       "  <tbody>\n",
       "    <tr>\n",
       "      <th>2020-08-08 12:00:00</th>\n",
       "      <td>aws-node-termination-handler-dd8v2</td>\n",
       "      <td>0.0</td>\n",
       "    </tr>\n",
       "    <tr>\n",
       "      <th>2020-08-08 12:15:00</th>\n",
       "      <td>aws-node-termination-handler-dd8v2</td>\n",
       "      <td>0.0</td>\n",
       "    </tr>\n",
       "    <tr>\n",
       "      <th>2020-08-08 12:30:00</th>\n",
       "      <td>aws-node-termination-handler-dd8v2</td>\n",
       "      <td>0.0</td>\n",
       "    </tr>\n",
       "    <tr>\n",
       "      <th>2020-08-08 12:45:00</th>\n",
       "      <td>aws-node-termination-handler-dd8v2</td>\n",
       "      <td>0.0</td>\n",
       "    </tr>\n",
       "    <tr>\n",
       "      <th>2020-08-08 13:00:00</th>\n",
       "      <td>aws-node-termination-handler-dd8v2</td>\n",
       "      <td>0.0</td>\n",
       "    </tr>\n",
       "  </tbody>\n",
       "</table>\n",
       "</div>"
      ],
      "text/plain": [
       "                                                    pod  memory\n",
       "time                                                           \n",
       "2020-08-08 12:00:00  aws-node-termination-handler-dd8v2     0.0\n",
       "2020-08-08 12:15:00  aws-node-termination-handler-dd8v2     0.0\n",
       "2020-08-08 12:30:00  aws-node-termination-handler-dd8v2     0.0\n",
       "2020-08-08 12:45:00  aws-node-termination-handler-dd8v2     0.0\n",
       "2020-08-08 13:00:00  aws-node-termination-handler-dd8v2     0.0"
      ]
     },
     "execution_count": 17,
     "metadata": {},
     "output_type": "execute_result"
    }
   ],
   "source": [
    "# Split into 3 columns\n",
    "pod_mem_df_formatted = pod_mem_df.iloc[:,0].str.split(\";\", expand=True)\n",
    "pod_mem_df_formatted.columns = [\"pod\", \"time\", \"memory\"]\n",
    "\n",
    "# Fix time column and set as index\n",
    "pod_mem_df_formatted.loc[:,\"time\"] = [value[1:][:-7] for value in pod_mem_df_formatted.loc[:, \"time\"]]\n",
    "pod_mem_df_formatted.loc[:, \"time\"] = pd.to_datetime(pod_mem_df_formatted.time, format=\"%Y-%m-%dT%H:%M:%S\")\n",
    "pod_mem_df_formatted = pod_mem_df_formatted.set_index(\"time\")\n",
    "\n",
    "# Fix numeric column\n",
    "pod_mem_df_formatted.loc[:, \"memory\"] = pd.to_numeric(pod_mem_df_formatted.memory.str.replace(\"null\", \"0\"))\n",
    "\n",
    "# Put memory in GB\n",
    "pod_mem_df_formatted.loc[:, \"memory\"] = pod_mem_df_formatted[\"memory\"]/1024/1024/1024\n",
    "\n",
    "# Look at the end result\n",
    "pod_mem_df_formatted.head()"
   ]
  },
  {
   "cell_type": "code",
   "execution_count": 18,
   "metadata": {},
   "outputs": [
    {
     "name": "stdout",
     "output_type": "stream",
     "text": [
      "<class 'pandas.core.frame.DataFrame'>\n",
      "DatetimeIndex: 889705 entries, 2020-08-08 12:00:00 to NaT\n",
      "Data columns (total 2 columns):\n",
      " #   Column  Non-Null Count   Dtype  \n",
      "---  ------  --------------   -----  \n",
      " 0   pod     889705 non-null  object \n",
      " 1   memory  889704 non-null  float64\n",
      "dtypes: float64(1), object(1)\n",
      "memory usage: 20.4+ MB\n"
     ]
    }
   ],
   "source": [
    "pod_mem_df_formatted.info()"
   ]
  },
  {
   "cell_type": "markdown",
   "metadata": {},
   "source": [
    "### Plot Memory Data\n",
    "\n",
    "Filtered well for the start of remaining data"
   ]
  },
  {
   "cell_type": "code",
   "execution_count": 19,
   "metadata": {},
   "outputs": [
    {
     "data": {
      "image/png": "[encoded data removed]",
      "text/plain": [
       "<Figure size 432x288 with 1 Axes>"
      ]
     },
     "metadata": {
      "needs_background": "light"
     },
     "output_type": "display_data"
    }
   ],
   "source": [
    "_ = pod_mem_df_formatted.plot(y=\"memory\")\n",
    "_ = plt.ylabel(\"Pod Memory (GiB)\")\n",
    "_ = plt.title(\"Memory Usage for Any Pod\")"
   ]
  },
  {
   "cell_type": "code",
   "execution_count": null,
   "metadata": {},
   "outputs": [],
   "source": []
  },
  {
   "cell_type": "code",
   "execution_count": null,
   "metadata": {},
   "outputs": [],
   "source": []
  },
  {
   "cell_type": "code",
   "execution_count": null,
   "metadata": {},
   "outputs": [],
   "source": []
  },
  {
   "cell_type": "markdown",
   "metadata": {},
   "source": [
    "## CPU"
   ]
  },
  {
   "cell_type": "code",
   "execution_count": 20,
   "metadata": {},
   "outputs": [
    {
     "data": {
      "text/html": [
       "<div>\n",
       "<style scoped>\n",
       "    .dataframe tbody tr th:only-of-type {\n",
       "        vertical-align: middle;\n",
       "    }\n",
       "\n",
       "    .dataframe tbody tr th {\n",
       "        vertical-align: top;\n",
       "    }\n",
       "\n",
       "    .dataframe thead th {\n",
       "        text-align: right;\n",
       "    }\n",
       "</style>\n",
       "<table border=\"1\" class=\"dataframe\">\n",
       "  <thead>\n",
       "    <tr style=\"text-align: right;\">\n",
       "      <th></th>\n",
       "      <th>Series;\"Time\";\"Value\"</th>\n",
       "    </tr>\n",
       "  </thead>\n",
       "  <tbody>\n",
       "    <tr>\n",
       "      <th>0</th>\n",
       "      <td>autohttps-594b9f8865-ggdxp;\"2020-08-08T12:00:0...</td>\n",
       "    </tr>\n",
       "    <tr>\n",
       "      <th>1</th>\n",
       "      <td>autohttps-594b9f8865-ggdxp;\"2020-08-08T12:15:0...</td>\n",
       "    </tr>\n",
       "    <tr>\n",
       "      <th>2</th>\n",
       "      <td>autohttps-594b9f8865-ggdxp;\"2020-08-08T12:30:0...</td>\n",
       "    </tr>\n",
       "    <tr>\n",
       "      <th>3</th>\n",
       "      <td>autohttps-594b9f8865-ggdxp;\"2020-08-08T12:45:0...</td>\n",
       "    </tr>\n",
       "    <tr>\n",
       "      <th>4</th>\n",
       "      <td>autohttps-594b9f8865-ggdxp;\"2020-08-08T13:00:0...</td>\n",
       "    </tr>\n",
       "  </tbody>\n",
       "</table>\n",
       "</div>"
      ],
      "text/plain": [
       "                               Series;\"Time\";\"Value\"\n",
       "0  autohttps-594b9f8865-ggdxp;\"2020-08-08T12:00:0...\n",
       "1  autohttps-594b9f8865-ggdxp;\"2020-08-08T12:15:0...\n",
       "2  autohttps-594b9f8865-ggdxp;\"2020-08-08T12:30:0...\n",
       "3  autohttps-594b9f8865-ggdxp;\"2020-08-08T12:45:0...\n",
       "4  autohttps-594b9f8865-ggdxp;\"2020-08-08T13:00:0..."
      ]
     },
     "execution_count": 20,
     "metadata": {},
     "output_type": "execute_result"
    }
   ],
   "source": [
    "pod_cpu_df = pd.read_csv(pod_cpu_csv_file)\n",
    "pod_cpu_df.head()"
   ]
  },
  {
   "cell_type": "code",
   "execution_count": 21,
   "metadata": {},
   "outputs": [
    {
     "data": {
      "text/plain": [
       "'autohttps-594b9f8865-ggdxp;\"2020-08-08T12:00:00-07:00\";null'"
      ]
     },
     "execution_count": 21,
     "metadata": {},
     "output_type": "execute_result"
    }
   ],
   "source": [
    "pod_cpu_df.iloc[0,0]"
   ]
  },
  {
   "cell_type": "markdown",
   "metadata": {},
   "source": [
    "### CPU Data Cleaning / Formatting"
   ]
  },
  {
   "cell_type": "code",
   "execution_count": 22,
   "metadata": {},
   "outputs": [
    {
     "data": {
      "text/html": [
       "<div>\n",
       "<style scoped>\n",
       "    .dataframe tbody tr th:only-of-type {\n",
       "        vertical-align: middle;\n",
       "    }\n",
       "\n",
       "    .dataframe tbody tr th {\n",
       "        vertical-align: top;\n",
       "    }\n",
       "\n",
       "    .dataframe thead th {\n",
       "        text-align: right;\n",
       "    }\n",
       "</style>\n",
       "<table border=\"1\" class=\"dataframe\">\n",
       "  <thead>\n",
       "    <tr style=\"text-align: right;\">\n",
       "      <th></th>\n",
       "      <th>pod</th>\n",
       "      <th>cpu</th>\n",
       "    </tr>\n",
       "    <tr>\n",
       "      <th>time</th>\n",
       "      <th></th>\n",
       "      <th></th>\n",
       "    </tr>\n",
       "  </thead>\n",
       "  <tbody>\n",
       "    <tr>\n",
       "      <th>2020-08-08 12:00:00</th>\n",
       "      <td>autohttps-594b9f8865-ggdxp</td>\n",
       "      <td>0.0</td>\n",
       "    </tr>\n",
       "    <tr>\n",
       "      <th>2020-08-08 12:15:00</th>\n",
       "      <td>autohttps-594b9f8865-ggdxp</td>\n",
       "      <td>0.0</td>\n",
       "    </tr>\n",
       "    <tr>\n",
       "      <th>2020-08-08 12:30:00</th>\n",
       "      <td>autohttps-594b9f8865-ggdxp</td>\n",
       "      <td>0.0</td>\n",
       "    </tr>\n",
       "    <tr>\n",
       "      <th>2020-08-08 12:45:00</th>\n",
       "      <td>autohttps-594b9f8865-ggdxp</td>\n",
       "      <td>0.0</td>\n",
       "    </tr>\n",
       "    <tr>\n",
       "      <th>2020-08-08 13:00:00</th>\n",
       "      <td>autohttps-594b9f8865-ggdxp</td>\n",
       "      <td>0.0</td>\n",
       "    </tr>\n",
       "  </tbody>\n",
       "</table>\n",
       "</div>"
      ],
      "text/plain": [
       "                                            pod  cpu\n",
       "time                                                \n",
       "2020-08-08 12:00:00  autohttps-594b9f8865-ggdxp  0.0\n",
       "2020-08-08 12:15:00  autohttps-594b9f8865-ggdxp  0.0\n",
       "2020-08-08 12:30:00  autohttps-594b9f8865-ggdxp  0.0\n",
       "2020-08-08 12:45:00  autohttps-594b9f8865-ggdxp  0.0\n",
       "2020-08-08 13:00:00  autohttps-594b9f8865-ggdxp  0.0"
      ]
     },
     "execution_count": 22,
     "metadata": {},
     "output_type": "execute_result"
    }
   ],
   "source": [
    "# Split into 3 columns\n",
    "pod_cpu_df_formatted = pod_cpu_df.iloc[:,0].str.split(\";\", expand=True)\n",
    "pod_cpu_df_formatted.columns = [\"pod\", \"time\", \"cpu\"]\n",
    "\n",
    "# Fix time col formatting and set as index\n",
    "pod_cpu_df_formatted.loc[:,\"time\"] = [value[1:][:-7] for value in pod_cpu_df_formatted.loc[:, \"time\"]]\n",
    "pod_cpu_df_formatted.loc[:, \"time\"] = pd.to_datetime(pod_cpu_df_formatted.time, format=\"%Y-%m-%dT%H:%M:%S\")\n",
    "pod_cpu_df_formatted = pod_cpu_df_formatted.set_index(\"time\")\n",
    "\n",
    "# Fix numeric column formatting\n",
    "pod_cpu_df_formatted.loc[:, \"cpu\"] = pd.to_numeric(pod_cpu_df_formatted.cpu.str.replace(\"null\", \"0\"))\n",
    "\n",
    "# Look at the final result\n",
    "pod_cpu_df_formatted.head()"
   ]
  },
  {
   "cell_type": "markdown",
   "metadata": {},
   "source": [
    "### Earliest Data Entry\n",
    "\n",
    "While the csv file has entries starting April 23rd, the earliest entry that actually has a non-zero value for cpu is on June 7th. The pod listed here is one that helps with HTTPS and was configured on May 14th, so it should have cpu data from May 14th onward. This indicates that Prometheus in our naive configuration stores about two weeks of data. That explains why the data prior to June 7th seems _extremely_ flat."
   ]
  },
  {
   "cell_type": "code",
   "execution_count": 23,
   "metadata": {},
   "outputs": [
    {
     "data": {
      "text/html": [
       "<div>\n",
       "<style scoped>\n",
       "    .dataframe tbody tr th:only-of-type {\n",
       "        vertical-align: middle;\n",
       "    }\n",
       "\n",
       "    .dataframe tbody tr th {\n",
       "        vertical-align: top;\n",
       "    }\n",
       "\n",
       "    .dataframe thead th {\n",
       "        text-align: right;\n",
       "    }\n",
       "</style>\n",
       "<table border=\"1\" class=\"dataframe\">\n",
       "  <thead>\n",
       "    <tr style=\"text-align: right;\">\n",
       "      <th></th>\n",
       "      <th>pod</th>\n",
       "      <th>cpu</th>\n",
       "    </tr>\n",
       "    <tr>\n",
       "      <th>time</th>\n",
       "      <th></th>\n",
       "      <th></th>\n",
       "    </tr>\n",
       "  </thead>\n",
       "  <tbody>\n",
       "    <tr>\n",
       "      <th>2020-08-08 17:15:00</th>\n",
       "      <td>autohttps-594b9f8865-ggdxp</td>\n",
       "      <td>0.005162</td>\n",
       "    </tr>\n",
       "  </tbody>\n",
       "</table>\n",
       "</div>"
      ],
      "text/plain": [
       "                                            pod       cpu\n",
       "time                                                     \n",
       "2020-08-08 17:15:00  autohttps-594b9f8865-ggdxp  0.005162"
      ]
     },
     "execution_count": 23,
     "metadata": {},
     "output_type": "execute_result"
    }
   ],
   "source": [
    "pod_cpu_df_formatted[pod_cpu_df_formatted.cpu != 0].head(1)"
   ]
  },
  {
   "cell_type": "code",
   "execution_count": 24,
   "metadata": {},
   "outputs": [
    {
     "name": "stdout",
     "output_type": "stream",
     "text": [
      "TimedeltaIndex(['15 days 18:45:00'], dtype='timedelta64[ns]', freq=None)\n"
     ]
    }
   ],
   "source": [
    "earliest_entry = pd.to_datetime(pod_cpu_df_formatted[pod_cpu_df_formatted.cpu != 0].head(1).index.values, format=\"%Y-%m-%dT%H:%M:%S\")\n",
    "latest_entry = pd.to_datetime(pod_cpu_df_formatted.tail(1).index.values, format=\"%Y-%m-%dT%H:%M:%S\")\n",
    "data_retention = latest_entry - earliest_entry\n",
    "print(data_retention)"
   ]
  },
  {
   "cell_type": "markdown",
   "metadata": {},
   "source": [
    "### Plot CPU Data"
   ]
  },
  {
   "cell_type": "code",
   "execution_count": 25,
   "metadata": {},
   "outputs": [
    {
     "data": {
      "image/png": "[encoded data removed]",
      "text/plain": [
       "<Figure size 432x288 with 1 Axes>"
      ]
     },
     "metadata": {
      "needs_background": "light"
     },
     "output_type": "display_data"
    }
   ],
   "source": [
    "_ = pod_cpu_df_formatted.loc[\"2020-06-06\":].plot(y=\"cpu\", style=\"b.\")\n",
    "_ = plt.ylabel(\"Pod CPU Core Usage (1h average)\")\n",
    "_ = plt.title(\"CPU Cores Used by Any Pod (1h avg)\")"
   ]
  },
  {
   "cell_type": "markdown",
   "metadata": {},
   "source": [
    "### Plot Memory Data over the same time frame"
   ]
  },
  {
   "cell_type": "code",
   "execution_count": 26,
   "metadata": {},
   "outputs": [
    {
     "data": {
      "text/plain": [
       "<matplotlib.axes._subplots.AxesSubplot at 0x7f72beebfe10>"
      ]
     },
     "execution_count": 26,
     "metadata": {},
     "output_type": "execute_result"
    },
    {
     "data": {
      "image/png": "[encoded data removed]",
      "text/plain": [
       "<Figure size 432x288 with 1 Axes>"
      ]
     },
     "metadata": {
      "needs_background": "light"
     },
     "output_type": "display_data"
    }
   ],
   "source": [
    "test_df = pod_mem_df_formatted.loc[\"2020-06-07 12:00:00\":,:]\n",
    "test_df[\"memory\"].plot()"
   ]
  },
  {
   "cell_type": "code",
   "execution_count": 27,
   "metadata": {},
   "outputs": [
    {
     "data": {
      "text/plain": [
       "DatetimeIndex(['2020-08-08 12:00:00', '2020-08-08 12:15:00',\n",
       "               '2020-08-08 12:30:00', '2020-08-08 12:45:00',\n",
       "               '2020-08-08 13:00:00', '2020-08-08 13:15:00',\n",
       "               '2020-08-08 13:30:00', '2020-08-08 13:45:00',\n",
       "               '2020-08-08 14:00:00', '2020-08-08 14:15:00',\n",
       "               ...\n",
       "               '2020-08-22 03:00:00', '2020-08-22 03:15:00',\n",
       "               '2020-08-22 03:30:00', '2020-08-22 03:45:00',\n",
       "               '2020-08-22 04:00:00', '2020-08-22 04:15:00',\n",
       "               '2020-08-22 04:30:00', '2020-08-22 04:45:00',\n",
       "               '2020-08-22 05:00:00', '2020-08-22 05:15:00'],\n",
       "              dtype='datetime64[ns]', name='time', length=889704, freq=None)"
      ]
     },
     "execution_count": 27,
     "metadata": {},
     "output_type": "execute_result"
    }
   ],
   "source": [
    "test_df.index"
   ]
  },
  {
   "cell_type": "code",
   "execution_count": 28,
   "metadata": {},
   "outputs": [
    {
     "data": {
      "text/plain": [
       "<matplotlib.axes._subplots.AxesSubplot at 0x7f72c06d9a50>"
      ]
     },
     "execution_count": 28,
     "metadata": {},
     "output_type": "execute_result"
    },
    {
     "data": {
      "image/png": "[encoded data removed]",
      "text/plain": [
       "<Figure size 432x288 with 1 Axes>"
      ]
     },
     "metadata": {
      "needs_background": "light"
     },
     "output_type": "display_data"
    }
   ],
   "source": [
    "pod_mem_df_formatted.loc[\"2020-06-07 12:00:00\":, \"memory\"].plot(style=\"b.\")"
   ]
  },
  {
   "cell_type": "code",
   "execution_count": 29,
   "metadata": {},
   "outputs": [
    {
     "data": {
      "image/png": "[encoded data removed]",
      "text/plain": [
       "<Figure size 432x288 with 1 Axes>"
      ]
     },
     "metadata": {
      "needs_background": "light"
     },
     "output_type": "display_data"
    }
   ],
   "source": [
    "_ = pod_mem_df_formatted.loc[\"2020-06-07 12:00:00\":, \"memory\"].plot(style=\"b.\")\n",
    "_ = plt.ylabel(\"Pod Memory (GiB)\")\n",
    "_ = plt.title(\"Memory Usage for Individual Pods (Checked every 15m)\")\n",
    "_ = plt.tight_layout()\n",
    "plt.savefig(\"ohw_individual_memory_usage.png\")"
   ]
  },
  {
   "cell_type": "markdown",
   "metadata": {},
   "source": [
    "## Next Thoughts\n",
    "\n",
    "I have the raw data cleaned and formatted so that I have hourly (and in the case of CPU, averaged) data for each pod on the cluster. What should I look at next?\n",
    "- Number of Users that were on the cluster\n",
    "- Number of Simultaneous Users\n",
    "- Highest Average Cpu / Highest Memory Usages among Users\n",
    "- Compare User Pod Resource Usages with Cluster-side Pod Resource Usages\n",
    "  \n",
    "Possible Intermediate Steps to Achieve Easier Answering of the Above Questions:\n",
    "- Tag Pods with \"cluster\" or \"user\" tags"
   ]
  },
  {
   "cell_type": "markdown",
   "metadata": {},
   "source": [
    "## Tag Pods with \"cluster\" or \"user\" tags"
   ]
  },
  {
   "cell_type": "code",
   "execution_count": 30,
   "metadata": {},
   "outputs": [
    {
     "data": {
      "text/html": [
       "<div>\n",
       "<style scoped>\n",
       "    .dataframe tbody tr th:only-of-type {\n",
       "        vertical-align: middle;\n",
       "    }\n",
       "\n",
       "    .dataframe tbody tr th {\n",
       "        vertical-align: top;\n",
       "    }\n",
       "\n",
       "    .dataframe thead th {\n",
       "        text-align: right;\n",
       "    }\n",
       "</style>\n",
       "<table border=\"1\" class=\"dataframe\">\n",
       "  <thead>\n",
       "    <tr style=\"text-align: right;\">\n",
       "      <th></th>\n",
       "      <th>pod</th>\n",
       "      <th>memory</th>\n",
       "    </tr>\n",
       "    <tr>\n",
       "      <th>time</th>\n",
       "      <th></th>\n",
       "      <th></th>\n",
       "    </tr>\n",
       "  </thead>\n",
       "  <tbody>\n",
       "    <tr>\n",
       "      <th>2020-08-08 12:00:00</th>\n",
       "      <td>aws-node-termination-handler-dd8v2</td>\n",
       "      <td>0.0</td>\n",
       "    </tr>\n",
       "    <tr>\n",
       "      <th>2020-08-08 12:15:00</th>\n",
       "      <td>aws-node-termination-handler-dd8v2</td>\n",
       "      <td>0.0</td>\n",
       "    </tr>\n",
       "    <tr>\n",
       "      <th>2020-08-08 12:30:00</th>\n",
       "      <td>aws-node-termination-handler-dd8v2</td>\n",
       "      <td>0.0</td>\n",
       "    </tr>\n",
       "    <tr>\n",
       "      <th>2020-08-08 12:45:00</th>\n",
       "      <td>aws-node-termination-handler-dd8v2</td>\n",
       "      <td>0.0</td>\n",
       "    </tr>\n",
       "    <tr>\n",
       "      <th>2020-08-08 13:00:00</th>\n",
       "      <td>aws-node-termination-handler-dd8v2</td>\n",
       "      <td>0.0</td>\n",
       "    </tr>\n",
       "  </tbody>\n",
       "</table>\n",
       "</div>"
      ],
      "text/plain": [
       "                                                    pod  memory\n",
       "time                                                           \n",
       "2020-08-08 12:00:00  aws-node-termination-handler-dd8v2     0.0\n",
       "2020-08-08 12:15:00  aws-node-termination-handler-dd8v2     0.0\n",
       "2020-08-08 12:30:00  aws-node-termination-handler-dd8v2     0.0\n",
       "2020-08-08 12:45:00  aws-node-termination-handler-dd8v2     0.0\n",
       "2020-08-08 13:00:00  aws-node-termination-handler-dd8v2     0.0"
      ]
     },
     "execution_count": 30,
     "metadata": {},
     "output_type": "execute_result"
    }
   ],
   "source": [
    "pod_mem_df_formatted.head()"
   ]
  },
  {
   "cell_type": "code",
   "execution_count": 31,
   "metadata": {},
   "outputs": [
    {
     "data": {
      "text/html": [
       "<div>\n",
       "<style scoped>\n",
       "    .dataframe tbody tr th:only-of-type {\n",
       "        vertical-align: middle;\n",
       "    }\n",
       "\n",
       "    .dataframe tbody tr th {\n",
       "        vertical-align: top;\n",
       "    }\n",
       "\n",
       "    .dataframe thead th {\n",
       "        text-align: right;\n",
       "    }\n",
       "</style>\n",
       "<table border=\"1\" class=\"dataframe\">\n",
       "  <thead>\n",
       "    <tr style=\"text-align: right;\">\n",
       "      <th></th>\n",
       "      <th>pod</th>\n",
       "      <th>memory</th>\n",
       "      <th>tag</th>\n",
       "    </tr>\n",
       "    <tr>\n",
       "      <th>time</th>\n",
       "      <th></th>\n",
       "      <th></th>\n",
       "      <th></th>\n",
       "    </tr>\n",
       "  </thead>\n",
       "  <tbody>\n",
       "    <tr>\n",
       "      <th>2020-08-08 12:00:00</th>\n",
       "      <td>aws-node-termination-handler-dd8v2</td>\n",
       "      <td>0.0</td>\n",
       "      <td></td>\n",
       "    </tr>\n",
       "    <tr>\n",
       "      <th>2020-08-08 12:15:00</th>\n",
       "      <td>aws-node-termination-handler-dd8v2</td>\n",
       "      <td>0.0</td>\n",
       "      <td></td>\n",
       "    </tr>\n",
       "    <tr>\n",
       "      <th>2020-08-08 12:30:00</th>\n",
       "      <td>aws-node-termination-handler-dd8v2</td>\n",
       "      <td>0.0</td>\n",
       "      <td></td>\n",
       "    </tr>\n",
       "    <tr>\n",
       "      <th>2020-08-08 12:45:00</th>\n",
       "      <td>aws-node-termination-handler-dd8v2</td>\n",
       "      <td>0.0</td>\n",
       "      <td></td>\n",
       "    </tr>\n",
       "    <tr>\n",
       "      <th>2020-08-08 13:00:00</th>\n",
       "      <td>aws-node-termination-handler-dd8v2</td>\n",
       "      <td>0.0</td>\n",
       "      <td></td>\n",
       "    </tr>\n",
       "  </tbody>\n",
       "</table>\n",
       "</div>"
      ],
      "text/plain": [
       "                                                    pod  memory tag\n",
       "time                                                               \n",
       "2020-08-08 12:00:00  aws-node-termination-handler-dd8v2     0.0    \n",
       "2020-08-08 12:15:00  aws-node-termination-handler-dd8v2     0.0    \n",
       "2020-08-08 12:30:00  aws-node-termination-handler-dd8v2     0.0    \n",
       "2020-08-08 12:45:00  aws-node-termination-handler-dd8v2     0.0    \n",
       "2020-08-08 13:00:00  aws-node-termination-handler-dd8v2     0.0    "
      ]
     },
     "execution_count": 31,
     "metadata": {},
     "output_type": "execute_result"
    }
   ],
   "source": [
    "pod_mem_df_formatted.loc[:, \"tag\"] = \"\"\n",
    "pod_mem_df_formatted.head()"
   ]
  },
  {
   "cell_type": "code",
   "execution_count": 32,
   "metadata": {},
   "outputs": [
    {
     "data": {
      "text/plain": [
       "user       540806\n",
       "cluster    348899\n",
       "Name: tag, dtype: int64"
      ]
     },
     "execution_count": 32,
     "metadata": {},
     "output_type": "execute_result"
    }
   ],
   "source": [
    "pod_mem_df_formatted.loc[pod_mem_df_formatted.pod.str.contains(\"jupyter\"), \"tag\"] = \"user\"\n",
    "pod_mem_df_formatted.loc[~pod_mem_df_formatted.pod.str.contains(\"jupyter\"), \"tag\"] = \"cluster\"\n",
    "pod_mem_df_formatted.tag.value_counts()"
   ]
  },
  {
   "cell_type": "code",
   "execution_count": 33,
   "metadata": {},
   "outputs": [
    {
     "data": {
      "text/plain": [
       "cluster    384250\n",
       "user       101442\n",
       "Name: tag, dtype: int64"
      ]
     },
     "execution_count": 33,
     "metadata": {},
     "output_type": "execute_result"
    }
   ],
   "source": [
    "pod_cpu_df_formatted.loc[pod_cpu_df_formatted.pod.str.contains(\"jupyter\"), \"tag\"] = \"user\"\n",
    "pod_cpu_df_formatted.loc[~pod_cpu_df_formatted.pod.str.contains(\"jupyter\"), \"tag\"] = \"cluster\"\n",
    "pod_cpu_df_formatted.tag.value_counts()"
   ]
  },
  {
   "cell_type": "markdown",
   "metadata": {},
   "source": [
    "### Number of Total Users: 66"
   ]
  },
  {
   "cell_type": "code",
   "execution_count": 34,
   "metadata": {},
   "outputs": [
    {
     "data": {
      "text/plain": [
       "65"
      ]
     },
     "execution_count": 34,
     "metadata": {},
     "output_type": "execute_result"
    }
   ],
   "source": [
    "len(pod_mem_df_formatted[pod_mem_df_formatted.tag == \"user\"].pod.unique())"
   ]
  },
  {
   "cell_type": "code",
   "execution_count": 35,
   "metadata": {},
   "outputs": [
    {
     "data": {
      "text/plain": [
       "66"
      ]
     },
     "execution_count": 35,
     "metadata": {},
     "output_type": "execute_result"
    }
   ],
   "source": [
    "len(pod_cpu_df_formatted[pod_cpu_df_formatted.tag == \"user\"].pod.unique())"
   ]
  },
  {
   "cell_type": "markdown",
   "metadata": {},
   "source": [
    "### Highest Number of Concurrent Users"
   ]
  },
  {
   "cell_type": "markdown",
   "metadata": {},
   "source": [
    "Ah. So the order of the data isn't in order of time, it's in order of pod name and then time. So aarendt has all of their entries time-ordered, then abarciauskas, then alexdebella, etc."
   ]
  },
  {
   "cell_type": "code",
   "execution_count": 37,
   "metadata": {},
   "outputs": [
    {
     "data": {
      "text/html": [
       "<div>\n",
       "<style scoped>\n",
       "    .dataframe tbody tr th:only-of-type {\n",
       "        vertical-align: middle;\n",
       "    }\n",
       "\n",
       "    .dataframe tbody tr th {\n",
       "        vertical-align: top;\n",
       "    }\n",
       "\n",
       "    .dataframe thead th {\n",
       "        text-align: right;\n",
       "    }\n",
       "</style>\n",
       "<table border=\"1\" class=\"dataframe\">\n",
       "  <thead>\n",
       "    <tr style=\"text-align: right;\">\n",
       "      <th></th>\n",
       "      <th>pod</th>\n",
       "      <th>memory</th>\n",
       "      <th>tag</th>\n",
       "    </tr>\n",
       "    <tr>\n",
       "      <th>time</th>\n",
       "      <th></th>\n",
       "      <th></th>\n",
       "      <th></th>\n",
       "    </tr>\n",
       "  </thead>\n",
       "  <tbody>\n",
       "    <tr>\n",
       "      <th>2020-08-11 12:45:00</th>\n",
       "      <td>jupyter-bru-2dod</td>\n",
       "      <td>0.089893</td>\n",
       "      <td>user</td>\n",
       "    </tr>\n",
       "    <tr>\n",
       "      <th>2020-08-11 13:00:00</th>\n",
       "      <td>jupyter-bru-2dod</td>\n",
       "      <td>1.057224</td>\n",
       "      <td>user</td>\n",
       "    </tr>\n",
       "    <tr>\n",
       "      <th>2020-08-11 13:15:00</th>\n",
       "      <td>jupyter-bru-2dod</td>\n",
       "      <td>1.294247</td>\n",
       "      <td>user</td>\n",
       "    </tr>\n",
       "    <tr>\n",
       "      <th>2020-08-11 11:45:00</th>\n",
       "      <td>jupyter-dbrisaro</td>\n",
       "      <td>0.204815</td>\n",
       "      <td>user</td>\n",
       "    </tr>\n",
       "    <tr>\n",
       "      <th>2020-08-11 12:00:00</th>\n",
       "      <td>jupyter-dbrisaro</td>\n",
       "      <td>0.206264</td>\n",
       "      <td>user</td>\n",
       "    </tr>\n",
       "    <tr>\n",
       "      <th>...</th>\n",
       "      <td>...</td>\n",
       "      <td>...</td>\n",
       "      <td>...</td>\n",
       "    </tr>\n",
       "    <tr>\n",
       "      <th>2020-08-13 12:45:00</th>\n",
       "      <td>jupyter-cooleyky</td>\n",
       "      <td>6.154633</td>\n",
       "      <td>user</td>\n",
       "    </tr>\n",
       "    <tr>\n",
       "      <th>2020-08-13 13:00:00</th>\n",
       "      <td>jupyter-cooleyky</td>\n",
       "      <td>6.154819</td>\n",
       "      <td>user</td>\n",
       "    </tr>\n",
       "    <tr>\n",
       "      <th>2020-08-13 13:15:00</th>\n",
       "      <td>jupyter-cooleyky</td>\n",
       "      <td>6.158859</td>\n",
       "      <td>user</td>\n",
       "    </tr>\n",
       "    <tr>\n",
       "      <th>2020-08-13 13:30:00</th>\n",
       "      <td>jupyter-cooleyky</td>\n",
       "      <td>6.158665</td>\n",
       "      <td>user</td>\n",
       "    </tr>\n",
       "    <tr>\n",
       "      <th>2020-08-13 13:45:00</th>\n",
       "      <td>jupyter-cooleyky</td>\n",
       "      <td>6.158665</td>\n",
       "      <td>user</td>\n",
       "    </tr>\n",
       "  </tbody>\n",
       "</table>\n",
       "<p>6198 rows × 3 columns</p>\n",
       "</div>"
      ],
      "text/plain": [
       "                                  pod    memory   tag\n",
       "time                                                 \n",
       "2020-08-11 12:45:00  jupyter-bru-2dod  0.089893  user\n",
       "2020-08-11 13:00:00  jupyter-bru-2dod  1.057224  user\n",
       "2020-08-11 13:15:00  jupyter-bru-2dod  1.294247  user\n",
       "2020-08-11 11:45:00  jupyter-dbrisaro  0.204815  user\n",
       "2020-08-11 12:00:00  jupyter-dbrisaro  0.206264  user\n",
       "...                               ...       ...   ...\n",
       "2020-08-13 12:45:00  jupyter-cooleyky  6.154633  user\n",
       "2020-08-13 13:00:00  jupyter-cooleyky  6.154819  user\n",
       "2020-08-13 13:15:00  jupyter-cooleyky  6.158859  user\n",
       "2020-08-13 13:30:00  jupyter-cooleyky  6.158665  user\n",
       "2020-08-13 13:45:00  jupyter-cooleyky  6.158665  user\n",
       "\n",
       "[6198 rows x 3 columns]"
      ]
     },
     "execution_count": 37,
     "metadata": {},
     "output_type": "execute_result"
    }
   ],
   "source": [
    "pod_mem_df_formatted[(pod_mem_df_formatted.tag == \"user\") & (pod_mem_df_formatted.memory != 0)].loc[\"2020-08-09 10:00:00\":\"2020-08-24 12:00:00\"]"
   ]
  },
  {
   "cell_type": "code",
   "execution_count": 38,
   "metadata": {},
   "outputs": [
    {
     "data": {
      "text/plain": [
       "48"
      ]
     },
     "execution_count": 38,
     "metadata": {},
     "output_type": "execute_result"
    }
   ],
   "source": [
    "pod_mem_df_formatted[(pod_mem_df_formatted.memory != 0) &\n",
    "                     (pod_mem_df_formatted.tag == \"user\")].reset_index().groupby(\"time\").nunique().pod.max()"
   ]
  },
  {
   "cell_type": "code",
   "execution_count": 39,
   "metadata": {},
   "outputs": [
    {
     "data": {
      "text/plain": [
       "56"
      ]
     },
     "execution_count": 39,
     "metadata": {},
     "output_type": "execute_result"
    }
   ],
   "source": [
    "pod_cpu_df_formatted[(pod_cpu_df_formatted.cpu != 0) &\n",
    "                     (pod_cpu_df_formatted.tag == \"user\")].reset_index().groupby(\"time\").nunique().pod.max()"
   ]
  },
  {
   "cell_type": "markdown",
   "metadata": {},
   "source": [
    "The datasets give two different numbers. I'm inclined to trust the memory data's number more, as it isn't an hourly average. The CPU data's number can indicate the highest number of concurrent users in an hour, but it doesn't have more granularity than that. However, the memory data is only sampled at hourly intervals, so 76 is the highest number of concurrent users at the top of any hour."
   ]
  },
  {
   "cell_type": "markdown",
   "metadata": {},
   "source": [
    "### Number of Concurrent Users over Time"
   ]
  },
  {
   "cell_type": "code",
   "execution_count": 40,
   "metadata": {},
   "outputs": [],
   "source": [
    "users_over_time_mem = pod_mem_df_formatted[pod_mem_df_formatted.tag == \"user\"].reset_index().groupby(\"time\").nunique()\n",
    "users_over_time_cpu = pod_cpu_df_formatted[pod_cpu_df_formatted.tag == \"user\"].reset_index().groupby(\"time\").nunique()"
   ]
  },
  {
   "cell_type": "code",
   "execution_count": 42,
   "metadata": {},
   "outputs": [
    {
     "data": {
      "image/png": "[encoded data removed]",
      "text/plain": [
       "<Figure size 432x288 with 1 Axes>"
      ]
     },
     "metadata": {
      "needs_background": "light"
     },
     "output_type": "display_data"
    }
   ],
   "source": [
    "users_plot_0 = users_over_time_mem.loc[\"2020-08-09 12:00:00\":,\"memory\"].plot(y=\"memory\")\n",
    "users_plot_0 = plt.title(\"Users Over Time (Every 15m)\")\n",
    "users_plot_0 = plt.ylabel(\"Number of Concurrent Users\")\n",
    "users_plot_0 = plt.legend().remove()\n",
    "users_plot_0 = plt.tight_layout()\n",
    "plt.savefig(\"ohw_users_over_time.png\")"
   ]
  },
  {
   "cell_type": "code",
   "execution_count": 43,
   "metadata": {},
   "outputs": [
    {
     "data": {
      "image/png": "[encoded data removed]",
      "text/plain": [
       "<Figure size 432x288 with 1 Axes>"
      ]
     },
     "metadata": {
      "needs_background": "light"
     },
     "output_type": "display_data"
    }
   ],
   "source": [
    "users_plot_1 = users_over_time_cpu.plot()\n",
    "users_plot_1 = plt.title(\"Users Over Time (from cpu data)\")\n",
    "users_plot_0 = plt.ylabel(\"Number of Concurrent Users\")"
   ]
  },
  {
   "cell_type": "markdown",
   "metadata": {},
   "source": [
    "### Highest Average Cpu / Highest Memory Usages among Users\n",
    "\n",
    "I know that users got up to their allotted four cores on certain tutorials if the other users on their node weren't using at least 2 cores, but this data can't show that information."
   ]
  },
  {
   "cell_type": "code",
   "execution_count": 44,
   "metadata": {},
   "outputs": [
    {
     "data": {
      "text/html": [
       "<div>\n",
       "<style scoped>\n",
       "    .dataframe tbody tr th:only-of-type {\n",
       "        vertical-align: middle;\n",
       "    }\n",
       "\n",
       "    .dataframe tbody tr th {\n",
       "        vertical-align: top;\n",
       "    }\n",
       "\n",
       "    .dataframe thead th {\n",
       "        text-align: right;\n",
       "    }\n",
       "</style>\n",
       "<table border=\"1\" class=\"dataframe\">\n",
       "  <thead>\n",
       "    <tr style=\"text-align: right;\">\n",
       "      <th></th>\n",
       "      <th>pod</th>\n",
       "      <th>memory</th>\n",
       "      <th>tag</th>\n",
       "    </tr>\n",
       "    <tr>\n",
       "      <th>time</th>\n",
       "      <th></th>\n",
       "      <th></th>\n",
       "      <th></th>\n",
       "    </tr>\n",
       "  </thead>\n",
       "  <tbody>\n",
       "    <tr>\n",
       "      <th>2020-08-13 09:45:00</th>\n",
       "      <td>jupyter-pahdsn</td>\n",
       "      <td>7.439209</td>\n",
       "      <td>user</td>\n",
       "    </tr>\n",
       "    <tr>\n",
       "      <th>2020-08-18 15:00:00</th>\n",
       "      <td>jupyter-lowhnn</td>\n",
       "      <td>7.685677</td>\n",
       "      <td>user</td>\n",
       "    </tr>\n",
       "    <tr>\n",
       "      <th>2020-08-14 02:30:00</th>\n",
       "      <td>jupyter-lowhnn</td>\n",
       "      <td>7.877388</td>\n",
       "      <td>user</td>\n",
       "    </tr>\n",
       "    <tr>\n",
       "      <th>2020-08-13 18:15:00</th>\n",
       "      <td>jupyter-lowhnn</td>\n",
       "      <td>7.973965</td>\n",
       "      <td>user</td>\n",
       "    </tr>\n",
       "    <tr>\n",
       "      <th>NaT</th>\n",
       "      <td>jupyter-cooleyky</td>\n",
       "      <td>NaN</td>\n",
       "      <td>user</td>\n",
       "    </tr>\n",
       "  </tbody>\n",
       "</table>\n",
       "</div>"
      ],
      "text/plain": [
       "                                  pod    memory   tag\n",
       "time                                                 \n",
       "2020-08-13 09:45:00    jupyter-pahdsn  7.439209  user\n",
       "2020-08-18 15:00:00    jupyter-lowhnn  7.685677  user\n",
       "2020-08-14 02:30:00    jupyter-lowhnn  7.877388  user\n",
       "2020-08-13 18:15:00    jupyter-lowhnn  7.973965  user\n",
       "NaT                  jupyter-cooleyky       NaN  user"
      ]
     },
     "execution_count": 44,
     "metadata": {},
     "output_type": "execute_result"
    }
   ],
   "source": [
    "pod_mem_df_formatted[pod_mem_df_formatted.tag == \"user\"].sort_values(\"memory\").tail()"
   ]
  },
  {
   "cell_type": "code",
   "execution_count": 53,
   "metadata": {},
   "outputs": [
    {
     "name": "stdout",
     "output_type": "stream",
     "text": [
      "The highest value of memory usage among users was 7.973965 GB.\n"
     ]
    }
   ],
   "source": [
    "highest_memory_usage = pod_mem_df_formatted[pod_mem_df_formatted.tag == \"user\"].sort_values(\"memory\", ascending=False).head(1).values[0,1]\n",
    "print(\"The highest value of memory usage among users was %f GB.\" % (highest_memory_usage))"
   ]
  },
  {
   "cell_type": "code",
   "execution_count": 56,
   "metadata": {},
   "outputs": [
    {
     "data": {
      "text/html": [
       "<div>\n",
       "<style scoped>\n",
       "    .dataframe tbody tr th:only-of-type {\n",
       "        vertical-align: middle;\n",
       "    }\n",
       "\n",
       "    .dataframe tbody tr th {\n",
       "        vertical-align: top;\n",
       "    }\n",
       "\n",
       "    .dataframe thead th {\n",
       "        text-align: right;\n",
       "    }\n",
       "</style>\n",
       "<table border=\"1\" class=\"dataframe\">\n",
       "  <thead>\n",
       "    <tr style=\"text-align: right;\">\n",
       "      <th></th>\n",
       "      <th>pod</th>\n",
       "      <th>cpu</th>\n",
       "      <th>tag</th>\n",
       "    </tr>\n",
       "    <tr>\n",
       "      <th>time</th>\n",
       "      <th></th>\n",
       "      <th></th>\n",
       "      <th></th>\n",
       "    </tr>\n",
       "  </thead>\n",
       "  <tbody>\n",
       "    <tr>\n",
       "      <th>2020-08-13 12:45:00</th>\n",
       "      <td>jupyter-patrickcgray</td>\n",
       "      <td>1.811432</td>\n",
       "      <td>user</td>\n",
       "    </tr>\n",
       "    <tr>\n",
       "      <th>2020-08-15 09:45:00</th>\n",
       "      <td>jupyter-noraloose</td>\n",
       "      <td>2.103674</td>\n",
       "      <td>user</td>\n",
       "    </tr>\n",
       "    <tr>\n",
       "      <th>2020-08-13 12:30:00</th>\n",
       "      <td>jupyter-patrickcgray</td>\n",
       "      <td>2.317837</td>\n",
       "      <td>user</td>\n",
       "    </tr>\n",
       "    <tr>\n",
       "      <th>2020-08-12 13:15:00</th>\n",
       "      <td>jupyter-singh-2dshikha</td>\n",
       "      <td>2.588373</td>\n",
       "      <td>user</td>\n",
       "    </tr>\n",
       "    <tr>\n",
       "      <th>2020-08-13 21:45:00</th>\n",
       "      <td>jupyter-noraloose</td>\n",
       "      <td>2.965996</td>\n",
       "      <td>user</td>\n",
       "    </tr>\n",
       "  </tbody>\n",
       "</table>\n",
       "</div>"
      ],
      "text/plain": [
       "                                        pod       cpu   tag\n",
       "time                                                       \n",
       "2020-08-13 12:45:00    jupyter-patrickcgray  1.811432  user\n",
       "2020-08-15 09:45:00       jupyter-noraloose  2.103674  user\n",
       "2020-08-13 12:30:00    jupyter-patrickcgray  2.317837  user\n",
       "2020-08-12 13:15:00  jupyter-singh-2dshikha  2.588373  user\n",
       "2020-08-13 21:45:00       jupyter-noraloose  2.965996  user"
      ]
     },
     "execution_count": 56,
     "metadata": {},
     "output_type": "execute_result"
    }
   ],
   "source": [
    "pod_cpu_df_formatted[pod_cpu_df_formatted.tag == \"user\"].sort_values(\"cpu\").tail()"
   ]
  },
  {
   "cell_type": "code",
   "execution_count": 58,
   "metadata": {},
   "outputs": [
    {
     "name": "stdout",
     "output_type": "stream",
     "text": [
      "The highest hourly CPU average usage was 2.965996 cores.\n"
     ]
    }
   ],
   "source": [
    "highest_avg_cpu_hour = pod_cpu_df_formatted[pod_cpu_df_formatted.tag == \"user\"].sort_values(\"cpu\").tail(1).values[0,1]\n",
    "print(\"The highest hourly CPU average usage was %f cores.\" % highest_avg_cpu_hour)"
   ]
  },
  {
   "cell_type": "markdown",
   "metadata": {},
   "source": [
    "### Compare User Pod Resource Usages with Cluster-side Pod Resource Usages"
   ]
  },
  {
   "cell_type": "code",
   "execution_count": 59,
   "metadata": {},
   "outputs": [
    {
     "data": {
      "text/html": [
       "<div>\n",
       "<style scoped>\n",
       "    .dataframe tbody tr th:only-of-type {\n",
       "        vertical-align: middle;\n",
       "    }\n",
       "\n",
       "    .dataframe tbody tr th {\n",
       "        vertical-align: top;\n",
       "    }\n",
       "\n",
       "    .dataframe thead tr th {\n",
       "        text-align: left;\n",
       "    }\n",
       "\n",
       "    .dataframe thead tr:last-of-type th {\n",
       "        text-align: right;\n",
       "    }\n",
       "</style>\n",
       "<table border=\"1\" class=\"dataframe\">\n",
       "  <thead>\n",
       "    <tr>\n",
       "      <th></th>\n",
       "      <th colspan=\"2\" halign=\"left\">memory</th>\n",
       "    </tr>\n",
       "    <tr>\n",
       "      <th>tag</th>\n",
       "      <th>cluster</th>\n",
       "      <th>user</th>\n",
       "    </tr>\n",
       "    <tr>\n",
       "      <th>time</th>\n",
       "      <th></th>\n",
       "      <th></th>\n",
       "    </tr>\n",
       "  </thead>\n",
       "  <tbody>\n",
       "    <tr>\n",
       "      <th>2020-08-08 17:15:00</th>\n",
       "      <td>0.708920</td>\n",
       "      <td>2.290615</td>\n",
       "    </tr>\n",
       "    <tr>\n",
       "      <th>2020-08-08 17:30:00</th>\n",
       "      <td>0.709652</td>\n",
       "      <td>2.290615</td>\n",
       "    </tr>\n",
       "    <tr>\n",
       "      <th>2020-08-08 17:45:00</th>\n",
       "      <td>0.710320</td>\n",
       "      <td>2.290760</td>\n",
       "    </tr>\n",
       "    <tr>\n",
       "      <th>2020-08-08 18:00:00</th>\n",
       "      <td>0.712204</td>\n",
       "      <td>2.290787</td>\n",
       "    </tr>\n",
       "    <tr>\n",
       "      <th>2020-08-08 18:15:00</th>\n",
       "      <td>0.711514</td>\n",
       "      <td>2.295391</td>\n",
       "    </tr>\n",
       "  </tbody>\n",
       "</table>\n",
       "</div>"
      ],
      "text/plain": [
       "                       memory          \n",
       "tag                   cluster      user\n",
       "time                                   \n",
       "2020-08-08 17:15:00  0.708920  2.290615\n",
       "2020-08-08 17:30:00  0.709652  2.290615\n",
       "2020-08-08 17:45:00  0.710320  2.290760\n",
       "2020-08-08 18:00:00  0.712204  2.290787\n",
       "2020-08-08 18:15:00  0.711514  2.295391"
      ]
     },
     "execution_count": 59,
     "metadata": {},
     "output_type": "execute_result"
    }
   ],
   "source": [
    "cluster_vs_user_memory = pod_mem_df_formatted.reset_index().groupby([\"time\", \"tag\"]).sum()\n",
    "cluster_vs_user_memory[cluster_vs_user_memory.memory != 0].unstack(level=1).head()"
   ]
  },
  {
   "cell_type": "code",
   "execution_count": 60,
   "metadata": {},
   "outputs": [],
   "source": [
    "first_data_point = cluster_vs_user_memory[cluster_vs_user_memory.memory != 0].index.values[0][0]"
   ]
  },
  {
   "cell_type": "code",
   "execution_count": 61,
   "metadata": {},
   "outputs": [
    {
     "data": {
      "text/plain": [
       "DatetimeIndex(['2020-08-08 17:15:00', '2020-08-08 17:30:00',\n",
       "               '2020-08-08 17:45:00', '2020-08-08 18:00:00',\n",
       "               '2020-08-08 18:15:00', '2020-08-08 18:30:00',\n",
       "               '2020-08-08 18:45:00', '2020-08-08 19:00:00',\n",
       "               '2020-08-08 19:15:00', '2020-08-08 19:30:00',\n",
       "               ...\n",
       "               '2020-08-24 09:45:00', '2020-08-24 10:00:00',\n",
       "               '2020-08-24 10:15:00', '2020-08-24 10:30:00',\n",
       "               '2020-08-24 10:45:00', '2020-08-24 11:00:00',\n",
       "               '2020-08-24 11:15:00', '2020-08-24 11:30:00',\n",
       "               '2020-08-24 11:45:00', '2020-08-24 12:00:00'],\n",
       "              dtype='datetime64[ns]', name='time', length=1516, freq=None)"
      ]
     },
     "execution_count": 61,
     "metadata": {},
     "output_type": "execute_result"
    }
   ],
   "source": [
    "cluster_vs_user_memory.unstack(level=1)[first_data_point:].index"
   ]
  },
  {
   "cell_type": "code",
   "execution_count": 62,
   "metadata": {},
   "outputs": [
    {
     "data": {
      "image/png": "[encoded data removed]",
      "text/plain": [
       "<Figure size 432x288 with 1 Axes>"
      ]
     },
     "metadata": {
      "needs_background": "light"
     },
     "output_type": "display_data"
    }
   ],
   "source": [
    "_ = cluster_vs_user_memory.unstack(level=1)[first_data_point:].plot()\n",
    "_ = plt.ylabel(\"Memory (GB)\")\n",
    "_ = plt.title(\"User vs Cluster Pod Total Memory Usage\")\n",
    "_ = plt.legend([\"Cluster's Memory Usage\", \"Users' Memory Usage\"])\n",
    "_ = plt.tight_layout()\n",
    "plt.savefig(\"ohw_memory_usage_comparison.png\")"
   ]
  },
  {
   "cell_type": "code",
   "execution_count": 63,
   "metadata": {},
   "outputs": [
    {
     "data": {
      "text/html": [
       "<div>\n",
       "<style scoped>\n",
       "    .dataframe tbody tr th:only-of-type {\n",
       "        vertical-align: middle;\n",
       "    }\n",
       "\n",
       "    .dataframe tbody tr th {\n",
       "        vertical-align: top;\n",
       "    }\n",
       "\n",
       "    .dataframe thead tr th {\n",
       "        text-align: left;\n",
       "    }\n",
       "\n",
       "    .dataframe thead tr:last-of-type th {\n",
       "        text-align: right;\n",
       "    }\n",
       "</style>\n",
       "<table border=\"1\" class=\"dataframe\">\n",
       "  <thead>\n",
       "    <tr>\n",
       "      <th></th>\n",
       "      <th colspan=\"2\" halign=\"left\">cpu</th>\n",
       "    </tr>\n",
       "    <tr>\n",
       "      <th>tag</th>\n",
       "      <th>cluster</th>\n",
       "      <th>user</th>\n",
       "    </tr>\n",
       "    <tr>\n",
       "      <th>time</th>\n",
       "      <th></th>\n",
       "      <th></th>\n",
       "    </tr>\n",
       "  </thead>\n",
       "  <tbody>\n",
       "    <tr>\n",
       "      <th>2020-08-08 17:15:00</th>\n",
       "      <td>0.046575</td>\n",
       "      <td>0.071821</td>\n",
       "    </tr>\n",
       "    <tr>\n",
       "      <th>2020-08-08 17:30:00</th>\n",
       "      <td>0.038755</td>\n",
       "      <td>0.001679</td>\n",
       "    </tr>\n",
       "    <tr>\n",
       "      <th>2020-08-08 17:45:00</th>\n",
       "      <td>0.038263</td>\n",
       "      <td>0.001666</td>\n",
       "    </tr>\n",
       "    <tr>\n",
       "      <th>2020-08-08 18:00:00</th>\n",
       "      <td>0.038162</td>\n",
       "      <td>0.002114</td>\n",
       "    </tr>\n",
       "    <tr>\n",
       "      <th>2020-08-08 18:15:00</th>\n",
       "      <td>0.039803</td>\n",
       "      <td>0.004866</td>\n",
       "    </tr>\n",
       "  </tbody>\n",
       "</table>\n",
       "</div>"
      ],
      "text/plain": [
       "                          cpu          \n",
       "tag                   cluster      user\n",
       "time                                   \n",
       "2020-08-08 17:15:00  0.046575  0.071821\n",
       "2020-08-08 17:30:00  0.038755  0.001679\n",
       "2020-08-08 17:45:00  0.038263  0.001666\n",
       "2020-08-08 18:00:00  0.038162  0.002114\n",
       "2020-08-08 18:15:00  0.039803  0.004866"
      ]
     },
     "execution_count": 63,
     "metadata": {},
     "output_type": "execute_result"
    }
   ],
   "source": [
    "cluster_vs_user_cpu = pod_cpu_df_formatted.reset_index().groupby([\"time\", \"tag\"]).sum()\n",
    "cluster_vs_user_cpu[cluster_vs_user_cpu.cpu != 0].unstack(level=1).head()"
   ]
  },
  {
   "cell_type": "code",
   "execution_count": 64,
   "metadata": {},
   "outputs": [
    {
     "data": {
      "image/png": "[encoded data removed]",
      "text/plain": [
       "<Figure size 432x288 with 1 Axes>"
      ]
     },
     "metadata": {
      "needs_background": "light"
     },
     "output_type": "display_data"
    }
   ],
   "source": [
    "_ = cluster_vs_user_cpu.unstack(level=1)[first_data_point:].plot()\n",
    "_ = plt.ylabel(\"CPU Usage(cores)\")\n",
    "_ = plt.title(\"Average Hourly CPU Usage for User vs Cluster Pods\")"
   ]
  },
  {
   "cell_type": "markdown",
   "metadata": {},
   "source": [
    "This plot seems to indicate that there is a large difference between cluster / user resource consumption when looking at memory or CPU usage. However, it is important to remember that the CPU data is an hourly average, so the data is heavily diluted for users. Users would have their pods perform intense computational tasks, but only for short periods of time. The cluster's pods generally performed at similar levels during the working hours of the day, so an hourly average diluted their data much less."
   ]
  },
  {
   "cell_type": "markdown",
   "metadata": {},
   "source": [
    "### Compare "
   ]
  },
  {
   "cell_type": "code",
   "execution_count": 65,
   "metadata": {},
   "outputs": [
    {
     "data": {
      "text/html": [
       "<div>\n",
       "<style scoped>\n",
       "    .dataframe tbody tr th:only-of-type {\n",
       "        vertical-align: middle;\n",
       "    }\n",
       "\n",
       "    .dataframe tbody tr th {\n",
       "        vertical-align: top;\n",
       "    }\n",
       "\n",
       "    .dataframe thead th {\n",
       "        text-align: right;\n",
       "    }\n",
       "</style>\n",
       "<table border=\"1\" class=\"dataframe\">\n",
       "  <thead>\n",
       "    <tr style=\"text-align: right;\">\n",
       "      <th></th>\n",
       "      <th>time</th>\n",
       "      <th>pod</th>\n",
       "      <th>memory</th>\n",
       "      <th>tag</th>\n",
       "    </tr>\n",
       "    <tr>\n",
       "      <th>time</th>\n",
       "      <th></th>\n",
       "      <th></th>\n",
       "      <th></th>\n",
       "      <th></th>\n",
       "    </tr>\n",
       "  </thead>\n",
       "  <tbody>\n",
       "    <tr>\n",
       "      <th>2020-08-08 12:00:00</th>\n",
       "      <td>1</td>\n",
       "      <td>65</td>\n",
       "      <td>1</td>\n",
       "      <td>1</td>\n",
       "    </tr>\n",
       "    <tr>\n",
       "      <th>2020-08-08 12:15:00</th>\n",
       "      <td>1</td>\n",
       "      <td>65</td>\n",
       "      <td>1</td>\n",
       "      <td>1</td>\n",
       "    </tr>\n",
       "    <tr>\n",
       "      <th>2020-08-08 12:30:00</th>\n",
       "      <td>1</td>\n",
       "      <td>65</td>\n",
       "      <td>1</td>\n",
       "      <td>1</td>\n",
       "    </tr>\n",
       "    <tr>\n",
       "      <th>2020-08-08 12:45:00</th>\n",
       "      <td>1</td>\n",
       "      <td>65</td>\n",
       "      <td>1</td>\n",
       "      <td>1</td>\n",
       "    </tr>\n",
       "    <tr>\n",
       "      <th>2020-08-08 13:00:00</th>\n",
       "      <td>1</td>\n",
       "      <td>65</td>\n",
       "      <td>1</td>\n",
       "      <td>1</td>\n",
       "    </tr>\n",
       "    <tr>\n",
       "      <th>...</th>\n",
       "      <td>...</td>\n",
       "      <td>...</td>\n",
       "      <td>...</td>\n",
       "      <td>...</td>\n",
       "    </tr>\n",
       "    <tr>\n",
       "      <th>2020-08-24 11:00:00</th>\n",
       "      <td>1</td>\n",
       "      <td>65</td>\n",
       "      <td>1</td>\n",
       "      <td>1</td>\n",
       "    </tr>\n",
       "    <tr>\n",
       "      <th>2020-08-24 11:15:00</th>\n",
       "      <td>1</td>\n",
       "      <td>65</td>\n",
       "      <td>1</td>\n",
       "      <td>1</td>\n",
       "    </tr>\n",
       "    <tr>\n",
       "      <th>2020-08-24 11:30:00</th>\n",
       "      <td>1</td>\n",
       "      <td>65</td>\n",
       "      <td>1</td>\n",
       "      <td>1</td>\n",
       "    </tr>\n",
       "    <tr>\n",
       "      <th>2020-08-24 11:45:00</th>\n",
       "      <td>1</td>\n",
       "      <td>65</td>\n",
       "      <td>1</td>\n",
       "      <td>1</td>\n",
       "    </tr>\n",
       "    <tr>\n",
       "      <th>2020-08-24 12:00:00</th>\n",
       "      <td>1</td>\n",
       "      <td>65</td>\n",
       "      <td>1</td>\n",
       "      <td>1</td>\n",
       "    </tr>\n",
       "  </tbody>\n",
       "</table>\n",
       "<p>1537 rows × 4 columns</p>\n",
       "</div>"
      ],
      "text/plain": [
       "                     time  pod  memory  tag\n",
       "time                                       \n",
       "2020-08-08 12:00:00     1   65       1    1\n",
       "2020-08-08 12:15:00     1   65       1    1\n",
       "2020-08-08 12:30:00     1   65       1    1\n",
       "2020-08-08 12:45:00     1   65       1    1\n",
       "2020-08-08 13:00:00     1   65       1    1\n",
       "...                   ...  ...     ...  ...\n",
       "2020-08-24 11:00:00     1   65       1    1\n",
       "2020-08-24 11:15:00     1   65       1    1\n",
       "2020-08-24 11:30:00     1   65       1    1\n",
       "2020-08-24 11:45:00     1   65       1    1\n",
       "2020-08-24 12:00:00     1   65       1    1\n",
       "\n",
       "[1537 rows x 4 columns]"
      ]
     },
     "execution_count": 65,
     "metadata": {},
     "output_type": "execute_result"
    }
   ],
   "source": [
    "users_over_time_mem"
   ]
  },
  {
   "cell_type": "code",
   "execution_count": 66,
   "metadata": {},
   "outputs": [
    {
     "data": {
      "text/html": [
       "<div>\n",
       "<style scoped>\n",
       "    .dataframe tbody tr th:only-of-type {\n",
       "        vertical-align: middle;\n",
       "    }\n",
       "\n",
       "    .dataframe tbody tr th {\n",
       "        vertical-align: top;\n",
       "    }\n",
       "\n",
       "    .dataframe thead tr th {\n",
       "        text-align: left;\n",
       "    }\n",
       "\n",
       "    .dataframe thead tr:last-of-type th {\n",
       "        text-align: right;\n",
       "    }\n",
       "</style>\n",
       "<table border=\"1\" class=\"dataframe\">\n",
       "  <thead>\n",
       "    <tr>\n",
       "      <th></th>\n",
       "      <th colspan=\"2\" halign=\"left\">memory</th>\n",
       "    </tr>\n",
       "    <tr>\n",
       "      <th>tag</th>\n",
       "      <th>cluster</th>\n",
       "      <th>user</th>\n",
       "    </tr>\n",
       "    <tr>\n",
       "      <th>time</th>\n",
       "      <th></th>\n",
       "      <th></th>\n",
       "    </tr>\n",
       "  </thead>\n",
       "  <tbody>\n",
       "    <tr>\n",
       "      <th>2020-08-08 17:15:00</th>\n",
       "      <td>0.708920</td>\n",
       "      <td>2.290615</td>\n",
       "    </tr>\n",
       "    <tr>\n",
       "      <th>2020-08-08 17:30:00</th>\n",
       "      <td>0.709652</td>\n",
       "      <td>2.290615</td>\n",
       "    </tr>\n",
       "    <tr>\n",
       "      <th>2020-08-08 17:45:00</th>\n",
       "      <td>0.710320</td>\n",
       "      <td>2.290760</td>\n",
       "    </tr>\n",
       "    <tr>\n",
       "      <th>2020-08-08 18:00:00</th>\n",
       "      <td>0.712204</td>\n",
       "      <td>2.290787</td>\n",
       "    </tr>\n",
       "    <tr>\n",
       "      <th>2020-08-08 18:15:00</th>\n",
       "      <td>0.711514</td>\n",
       "      <td>2.295391</td>\n",
       "    </tr>\n",
       "    <tr>\n",
       "      <th>...</th>\n",
       "      <td>...</td>\n",
       "      <td>...</td>\n",
       "    </tr>\n",
       "    <tr>\n",
       "      <th>2020-08-24 11:00:00</th>\n",
       "      <td>0.722168</td>\n",
       "      <td>0.000000</td>\n",
       "    </tr>\n",
       "    <tr>\n",
       "      <th>2020-08-24 11:15:00</th>\n",
       "      <td>0.722645</td>\n",
       "      <td>0.000000</td>\n",
       "    </tr>\n",
       "    <tr>\n",
       "      <th>2020-08-24 11:30:00</th>\n",
       "      <td>0.722397</td>\n",
       "      <td>0.000000</td>\n",
       "    </tr>\n",
       "    <tr>\n",
       "      <th>2020-08-24 11:45:00</th>\n",
       "      <td>0.722141</td>\n",
       "      <td>0.000000</td>\n",
       "    </tr>\n",
       "    <tr>\n",
       "      <th>2020-08-24 12:00:00</th>\n",
       "      <td>0.721985</td>\n",
       "      <td>0.000000</td>\n",
       "    </tr>\n",
       "  </tbody>\n",
       "</table>\n",
       "<p>1516 rows × 2 columns</p>\n",
       "</div>"
      ],
      "text/plain": [
       "                       memory          \n",
       "tag                   cluster      user\n",
       "time                                   \n",
       "2020-08-08 17:15:00  0.708920  2.290615\n",
       "2020-08-08 17:30:00  0.709652  2.290615\n",
       "2020-08-08 17:45:00  0.710320  2.290760\n",
       "2020-08-08 18:00:00  0.712204  2.290787\n",
       "2020-08-08 18:15:00  0.711514  2.295391\n",
       "...                       ...       ...\n",
       "2020-08-24 11:00:00  0.722168  0.000000\n",
       "2020-08-24 11:15:00  0.722645  0.000000\n",
       "2020-08-24 11:30:00  0.722397  0.000000\n",
       "2020-08-24 11:45:00  0.722141  0.000000\n",
       "2020-08-24 12:00:00  0.721985  0.000000\n",
       "\n",
       "[1516 rows x 2 columns]"
      ]
     },
     "execution_count": 66,
     "metadata": {},
     "output_type": "execute_result"
    }
   ],
   "source": [
    "cluster_vs_user_memory.unstack(level=1)[first_data_point:]"
   ]
  },
  {
   "cell_type": "code",
   "execution_count": null,
   "metadata": {},
   "outputs": [],
   "source": []
  }
 ],
 "metadata": {
  "kernelspec": {
   "display_name": "Python 3",
   "language": "python",
   "name": "python3"
  },
  "language_info": {
   "codemirror_mode": {
    "name": "ipython",
    "version": 3
   },
   "file_extension": ".py",
   "mimetype": "text/x-python",
   "name": "python",
   "nbconvert_exporter": "python",
   "pygments_lexer": "ipython3",
   "version": "3.7.8"
  }
 },
 "nbformat": 4,
 "nbformat_minor": 4
}
